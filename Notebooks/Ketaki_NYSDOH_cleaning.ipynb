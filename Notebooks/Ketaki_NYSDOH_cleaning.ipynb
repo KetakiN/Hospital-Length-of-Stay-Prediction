{
  "nbformat": 4,
  "nbformat_minor": 0,
  "metadata": {
    "kernelspec": {
      "display_name": "Python 3",
      "language": "python",
      "name": "python3"
    },
    "language_info": {
      "codemirror_mode": {
        "name": "ipython",
        "version": 3
      },
      "file_extension": ".py",
      "mimetype": "text/x-python",
      "name": "python",
      "nbconvert_exporter": "python",
      "pygments_lexer": "ipython3",
      "version": "3.8.3"
    },
    "colab": {
      "name": "Ketaki_NYSDOH_cleaning.ipynb",
      "provenance": []
    }
  },
  "cells": [
    {
      "cell_type": "code",
      "metadata": {
        "id": "MjWlX0jdE85h"
      },
      "source": [
        "# import modules\n",
        "import pandas as pd\n",
        "import numpy as np\n",
        "import seaborn as sns"
      ],
      "execution_count": null,
      "outputs": []
    },
    {
      "cell_type": "code",
      "metadata": {
        "id": "50uxSR35E85u"
      },
      "source": [
        "# upload the project dataset\n",
        "df=pd.read_csv('/content/sample_data/NYSDOH_sample.csv')"
      ],
      "execution_count": null,
      "outputs": []
    },
    {
      "cell_type": "code",
      "metadata": {
        "colab": {
          "base_uri": "https://localhost:8080/"
        },
        "id": "NzRUNxPCE85w",
        "outputId": "0aaf6eeb-da34-4d85-b34a-56c26211050e"
      },
      "source": [
        "# check shape of dataset\n",
        "df.shape"
      ],
      "execution_count": null,
      "outputs": [
        {
          "output_type": "execute_result",
          "data": {
            "text/plain": [
              "(118378, 36)"
            ]
          },
          "metadata": {
            "tags": []
          },
          "execution_count": 3
        }
      ]
    },
    {
      "cell_type": "code",
      "metadata": {
        "colab": {
          "base_uri": "https://localhost:8080/"
        },
        "id": "4yqic7atE85z",
        "outputId": "e27a4f85-06a8-4a0d-9015-f9d2c724111b"
      },
      "source": [
        "# check for missing values\n",
        "missing_values_count = df.isnull().sum()\n",
        "missing_values_count[:]\n"
      ],
      "execution_count": null,
      "outputs": [
        {
          "output_type": "execute_result",
          "data": {
            "text/plain": [
              "Unnamed: 0                                   0\n",
              "Hospital Service Area                      321\n",
              "Hospital County                            321\n",
              "Operating Certificate Number               321\n",
              "Permanent Facility Id                      321\n",
              "Facility Name                                0\n",
              "Age Group                                    0\n",
              "Zip Code - 3 digits                       1861\n",
              "Gender                                       0\n",
              "Race                                         0\n",
              "Ethnicity                                    0\n",
              "Length of Stay                               0\n",
              "Type of Admission                            0\n",
              "Patient Disposition                          0\n",
              "Discharge Year                               0\n",
              "CCS Diagnosis Code                           0\n",
              "CCS Diagnosis Description                    0\n",
              "CCS Procedure Code                           0\n",
              "CCS Procedure Description                    0\n",
              "APR DRG Code                                 0\n",
              "APR DRG Description                          0\n",
              "APR MDC Code                                 0\n",
              "APR MDC Description                          0\n",
              "APR Severity of Illness Code                 0\n",
              "APR Severity of Illness Description          6\n",
              "APR Risk of Mortality                        6\n",
              "APR Medical Surgical Description             0\n",
              "Payment Typology 1                           0\n",
              "Payment Typology 2                       39328\n",
              "Payment Typology 3                       83930\n",
              "Birth Weight                                 0\n",
              "Abortion Edit Indicator                      0\n",
              "Emergency Department Indicator               0\n",
              "Total Charges                                0\n",
              "Total Costs                                  0\n",
              "Ratio of Total Costs to Total Charges        0\n",
              "dtype: int64"
            ]
          },
          "metadata": {
            "tags": []
          },
          "execution_count": 5
        }
      ]
    },
    {
      "cell_type": "code",
      "metadata": {
        "colab": {
          "base_uri": "https://localhost:8080/"
        },
        "id": "etLpD6OpE85z",
        "outputId": "07064aaf-b673-4a7d-ba42-3896e1639af7"
      },
      "source": [
        "# check percentage of missing rows\n",
        "import numpy as np\n",
        "total_cells = np.product(df.shape)\n",
        "total_missing = missing_values_count.sum()\n",
        "percent_missing=(total_missing/total_cells) * 100\n",
        "print(percent_missing)"
      ],
      "execution_count": null,
      "outputs": [
        {
          "output_type": "stream",
          "text": [
            "2.966368563227777\n"
          ],
          "name": "stdout"
        }
      ]
    },
    {
      "cell_type": "code",
      "metadata": {
        "colab": {
          "base_uri": "https://localhost:8080/"
        },
        "id": "n2NoGSjfE850",
        "outputId": "0c4602a0-1048-441d-db92-b26096114bb9"
      },
      "source": [
        "# print data types\n",
        "print(df.dtypes)"
      ],
      "execution_count": null,
      "outputs": [
        {
          "output_type": "stream",
          "text": [
            "Unnamed: 0                                 int64\n",
            "Hospital Service Area                     object\n",
            "Hospital County                           object\n",
            "Operating Certificate Number             float64\n",
            "Permanent Facility Id                    float64\n",
            "Facility Name                             object\n",
            "Age Group                                 object\n",
            "Zip Code - 3 digits                       object\n",
            "Gender                                    object\n",
            "Race                                      object\n",
            "Ethnicity                                 object\n",
            "Length of Stay                            object\n",
            "Type of Admission                         object\n",
            "Patient Disposition                       object\n",
            "Discharge Year                             int64\n",
            "CCS Diagnosis Code                         int64\n",
            "CCS Diagnosis Description                 object\n",
            "CCS Procedure Code                         int64\n",
            "CCS Procedure Description                 object\n",
            "APR DRG Code                               int64\n",
            "APR DRG Description                       object\n",
            "APR MDC Code                               int64\n",
            "APR MDC Description                       object\n",
            "APR Severity of Illness Code               int64\n",
            "APR Severity of Illness Description       object\n",
            "APR Risk of Mortality                     object\n",
            "APR Medical Surgical Description          object\n",
            "Payment Typology 1                        object\n",
            "Payment Typology 2                        object\n",
            "Payment Typology 3                        object\n",
            "Birth Weight                               int64\n",
            "Abortion Edit Indicator                   object\n",
            "Emergency Department Indicator            object\n",
            "Total Charges                             object\n",
            "Total Costs                               object\n",
            "Ratio of Total Costs to Total Charges    float64\n",
            "dtype: object\n"
          ],
          "name": "stdout"
        }
      ]
    },
    {
      "cell_type": "code",
      "metadata": {
        "id": "eNTcCS0TE850"
      },
      "source": [
        "# converting length of stay into a float raised an error due to the 120+ value"
      ],
      "execution_count": null,
      "outputs": []
    },
    {
      "cell_type": "code",
      "metadata": {
        "id": "yElopXFTE850"
      },
      "source": [
        "# replace 120+ length of stay with 120, which will be considered the maximum length of stay category\n",
        "df.loc[df['Length of Stay']=='120 +','Length of Stay']='120'"
      ],
      "execution_count": null,
      "outputs": []
    },
    {
      "cell_type": "code",
      "metadata": {
        "id": "yYobdWqSE851"
      },
      "source": [
        "# reattempt changing length of stay in to a float\n",
        "df['Length of Stay']=df['Length of Stay'].astype(float)"
      ],
      "execution_count": null,
      "outputs": []
    },
    {
      "cell_type": "code",
      "metadata": {
        "id": "IrjovRx7E851"
      },
      "source": [
        "# Looking at missing values, zip code Zip Code - 3 digits Type is Char. Length is 3. The first three digits of the patient's\n",
        "#zip code. Blank for:- population size less than 20,000- abortion records, or- cell size less than 10 on population,classification strata. \n",
        "#“OOS” are Out of State zipcodes\n"
      ],
      "execution_count": null,
      "outputs": []
    },
    {
      "cell_type": "code",
      "metadata": {
        "colab": {
          "base_uri": "https://localhost:8080/"
        },
        "id": "ofGkMkgaE852",
        "outputId": "5ed7d513-93b8-4e05-9192-219a54fe49f8"
      },
      "source": [
        "# Check for unique zip codes\n",
        "df['Zip Code - 3 digits'].unique()"
      ],
      "execution_count": null,
      "outputs": [
        {
          "output_type": "execute_result",
          "data": {
            "text/plain": [
              "array(['142', 'OOS', '140', '147', '141', '143', '145', nan, '148', '144',\n",
              "       '130', '146', '112', '131', '134', '129', '120', '136', '121',\n",
              "       '133', '149', '122', '139', '137', '138', '124', '123', '128',\n",
              "       '132', '135', '127', '100', '104', '125', '126', '109', '117',\n",
              "       '105', '115', '113', '107', '106', '103', '108', '114', '110',\n",
              "       '111', '119', '101', '116', '118'], dtype=object)"
            ]
          },
          "metadata": {
            "tags": []
          },
          "execution_count": 12
        }
      ]
    },
    {
      "cell_type": "code",
      "metadata": {
        "id": "pEmeiKnmE853"
      },
      "source": [
        "# the missing nan zip codes will be replaced with string '0'\n",
        "df['Zip Code - 3 digits']=df['Zip Code - 3 digits'].fillna(0).astype(str)"
      ],
      "execution_count": null,
      "outputs": []
    },
    {
      "cell_type": "code",
      "metadata": {
        "colab": {
          "base_uri": "https://localhost:8080/"
        },
        "id": "tNyI1PMrE853",
        "outputId": "8d0539b2-6e5b-4ad2-8938-0d2e243e126c"
      },
      "source": [
        "# recheck zip codes to see if all null values are replced\n",
        "df['Zip Code - 3 digits'].unique()"
      ],
      "execution_count": null,
      "outputs": [
        {
          "output_type": "execute_result",
          "data": {
            "text/plain": [
              "array(['142', 'OOS', '140', '147', '141', '143', '145', '0', '148', '144',\n",
              "       '130', '146', '112', '131', '134', '129', '120', '136', '121',\n",
              "       '133', '149', '122', '139', '137', '138', '124', '123', '128',\n",
              "       '132', '135', '127', '100', '104', '125', '126', '109', '117',\n",
              "       '105', '115', '113', '107', '106', '103', '108', '114', '110',\n",
              "       '111', '119', '101', '116', '118'], dtype=object)"
            ]
          },
          "metadata": {
            "tags": []
          },
          "execution_count": 14
        }
      ]
    },
    {
      "cell_type": "code",
      "metadata": {
        "colab": {
          "base_uri": "https://localhost:8080/"
        },
        "id": "uNoQXoXiE854",
        "outputId": "4ff4c00a-e4d2-47b7-9c24-baf90160d85a"
      },
      "source": [
        "# Check different payment typologies 2\n",
        "df['Payment Typology 2'].unique()"
      ],
      "execution_count": null,
      "outputs": [
        {
          "output_type": "execute_result",
          "data": {
            "text/plain": [
              "array(['Medicaid', nan, 'Self-Pay', 'Private Health Insurance',\n",
              "       'Blue Cross/Blue Shield', 'Medicare', 'Miscellaneous/Other',\n",
              "       'Federal/State/Local/VA', 'Managed Care, Unspecified',\n",
              "       'Department of Corrections', 'Unknown'], dtype=object)"
            ]
          },
          "metadata": {
            "tags": []
          },
          "execution_count": 15
        }
      ]
    },
    {
      "cell_type": "code",
      "metadata": {
        "id": "eWMoHRuoE854"
      },
      "source": [
        "# replace nan with 'Unknown'\n",
        "df['Payment Typology 2']=df['Payment Typology 2'].fillna('Unknown')"
      ],
      "execution_count": null,
      "outputs": []
    },
    {
      "cell_type": "code",
      "metadata": {
        "colab": {
          "base_uri": "https://localhost:8080/"
        },
        "id": "P3OLIZXXE854",
        "outputId": "af05f752-0dce-4a5e-fb8f-e1ab9741e35b"
      },
      "source": [
        "# reasess different payment typologies 2\n",
        "df['Payment Typology 2'].unique()"
      ],
      "execution_count": null,
      "outputs": [
        {
          "output_type": "execute_result",
          "data": {
            "text/plain": [
              "array(['Medicaid', 'Unknown', 'Self-Pay', 'Private Health Insurance',\n",
              "       'Blue Cross/Blue Shield', 'Medicare', 'Miscellaneous/Other',\n",
              "       'Federal/State/Local/VA', 'Managed Care, Unspecified',\n",
              "       'Department of Corrections'], dtype=object)"
            ]
          },
          "metadata": {
            "tags": []
          },
          "execution_count": 17
        }
      ]
    },
    {
      "cell_type": "code",
      "metadata": {
        "colab": {
          "base_uri": "https://localhost:8080/"
        },
        "id": "LLufar3hE855",
        "outputId": "fadd43a6-fce4-4456-d3ac-283ff8f879db"
      },
      "source": [
        "# asess different payment typologies 3\n",
        "df['Payment Typology 3'].unique()"
      ],
      "execution_count": null,
      "outputs": [
        {
          "output_type": "execute_result",
          "data": {
            "text/plain": [
              "array(['Self-Pay', nan, 'Medicaid', 'Blue Cross/Blue Shield',\n",
              "       'Private Health Insurance', 'Federal/State/Local/VA', 'Medicare',\n",
              "       'Miscellaneous/Other', 'Managed Care, Unspecified',\n",
              "       'Department of Corrections', 'Unknown'], dtype=object)"
            ]
          },
          "metadata": {
            "tags": []
          },
          "execution_count": 18
        }
      ]
    },
    {
      "cell_type": "code",
      "metadata": {
        "id": "ktM_mEU0E855"
      },
      "source": [
        "# replace nan with 'Unknown'\n",
        "df['Payment Typology 3']=df['Payment Typology 3'].fillna('Unknown')"
      ],
      "execution_count": null,
      "outputs": []
    },
    {
      "cell_type": "code",
      "metadata": {
        "colab": {
          "base_uri": "https://localhost:8080/"
        },
        "id": "Bkw7aGF9E855",
        "outputId": "ff066521-fe07-482e-9bc9-573062a3613a"
      },
      "source": [
        "# reasess different payment typologies 3\n",
        "df['Payment Typology 3'].unique()"
      ],
      "execution_count": null,
      "outputs": [
        {
          "output_type": "execute_result",
          "data": {
            "text/plain": [
              "array(['Self-Pay', 'Unknown', 'Medicaid', 'Blue Cross/Blue Shield',\n",
              "       'Private Health Insurance', 'Federal/State/Local/VA', 'Medicare',\n",
              "       'Miscellaneous/Other', 'Managed Care, Unspecified',\n",
              "       'Department of Corrections'], dtype=object)"
            ]
          },
          "metadata": {
            "tags": []
          },
          "execution_count": 20
        }
      ]
    },
    {
      "cell_type": "code",
      "metadata": {
        "id": "r-wfQc1bE856"
      },
      "source": [
        "#Hospital Service Area                       \n",
        "#Hospital County                             \n",
        "#Operating Certificate Number               \n",
        "#Permanent Facility Id  are blank for abortion records, these rows will be dropped.\n",
        "#'APR Severity of Illness Description',APR Risk of Mortality', missing 6 values, will be dropped\n",
        "df.dropna(inplace=True)"
      ],
      "execution_count": null,
      "outputs": []
    },
    {
      "cell_type": "code",
      "metadata": {
        "colab": {
          "base_uri": "https://localhost:8080/"
        },
        "id": "7oag_FZhE856",
        "outputId": "2c7b7136-6dd2-4ff5-f0d7-5f80072e6eab"
      },
      "source": [
        "# recheck for null values in dataset\n",
        "mvc=df.isnull().sum()\n",
        "mvc[:]\n"
      ],
      "execution_count": null,
      "outputs": [
        {
          "output_type": "execute_result",
          "data": {
            "text/plain": [
              "Unnamed: 0                               0\n",
              "Hospital Service Area                    0\n",
              "Hospital County                          0\n",
              "Operating Certificate Number             0\n",
              "Permanent Facility Id                    0\n",
              "Facility Name                            0\n",
              "Age Group                                0\n",
              "Zip Code - 3 digits                      0\n",
              "Gender                                   0\n",
              "Race                                     0\n",
              "Ethnicity                                0\n",
              "Length of Stay                           0\n",
              "Type of Admission                        0\n",
              "Patient Disposition                      0\n",
              "Discharge Year                           0\n",
              "CCS Diagnosis Code                       0\n",
              "CCS Diagnosis Description                0\n",
              "CCS Procedure Code                       0\n",
              "CCS Procedure Description                0\n",
              "APR DRG Code                             0\n",
              "APR DRG Description                      0\n",
              "APR MDC Code                             0\n",
              "APR MDC Description                      0\n",
              "APR Severity of Illness Code             0\n",
              "APR Severity of Illness Description      0\n",
              "APR Risk of Mortality                    0\n",
              "APR Medical Surgical Description         0\n",
              "Payment Typology 1                       0\n",
              "Payment Typology 2                       0\n",
              "Payment Typology 3                       0\n",
              "Birth Weight                             0\n",
              "Abortion Edit Indicator                  0\n",
              "Emergency Department Indicator           0\n",
              "Total Charges                            0\n",
              "Total Costs                              0\n",
              "Ratio of Total Costs to Total Charges    0\n",
              "dtype: int64"
            ]
          },
          "metadata": {
            "tags": []
          },
          "execution_count": 23
        }
      ]
    },
    {
      "cell_type": "code",
      "metadata": {
        "colab": {
          "base_uri": "https://localhost:8080/"
        },
        "id": "7WQPUcY7E856",
        "outputId": "66de729d-0bf0-4880-b2c0-e322c21d0f58"
      },
      "source": [
        "# check dataset shape after null values have been dropped\n",
        "df.shape"
      ],
      "execution_count": null,
      "outputs": [
        {
          "output_type": "execute_result",
          "data": {
            "text/plain": [
              "(118051, 36)"
            ]
          },
          "metadata": {
            "tags": []
          },
          "execution_count": 24
        }
      ]
    },
    {
      "cell_type": "code",
      "metadata": {
        "id": "Me-0PljOE857"
      },
      "source": [
        "# Replace spaces/dashes in column names with underscore\n",
        "df.columns = df.columns.str.replace(' ', '_')\n",
        "df.columns = df.columns.str.replace('-', '')"
      ],
      "execution_count": null,
      "outputs": []
    },
    {
      "cell_type": "code",
      "metadata": {
        "id": "DW1uHpOPE858"
      },
      "source": [
        "# save cleaned dataset as : NYSDOH_clean\n",
        "df.to_csv('NYSDOH_clean.csv')"
      ],
      "execution_count": null,
      "outputs": []
    },
    {
      "cell_type": "code",
      "metadata": {
        "colab": {
          "base_uri": "https://localhost:8080/",
          "height": 17
        },
        "id": "gA4vDqBIGq8w",
        "outputId": "dbe6a13a-2e06-4b19-de77-3b714512923e"
      },
      "source": [
        "# Download NYSDOH_clean \n",
        "from google.colab import files\n",
        "files.download('NYSDOH_clean.csv')"
      ],
      "execution_count": null,
      "outputs": [
        {
          "output_type": "display_data",
          "data": {
            "application/javascript": [
              "\n",
              "    async function download(id, filename, size) {\n",
              "      if (!google.colab.kernel.accessAllowed) {\n",
              "        return;\n",
              "      }\n",
              "      const div = document.createElement('div');\n",
              "      const label = document.createElement('label');\n",
              "      label.textContent = `Downloading \"${filename}\": `;\n",
              "      div.appendChild(label);\n",
              "      const progress = document.createElement('progress');\n",
              "      progress.max = size;\n",
              "      div.appendChild(progress);\n",
              "      document.body.appendChild(div);\n",
              "\n",
              "      const buffers = [];\n",
              "      let downloaded = 0;\n",
              "\n",
              "      const channel = await google.colab.kernel.comms.open(id);\n",
              "      // Send a message to notify the kernel that we're ready.\n",
              "      channel.send({})\n",
              "\n",
              "      for await (const message of channel.messages) {\n",
              "        // Send a message to notify the kernel that we're ready.\n",
              "        channel.send({})\n",
              "        if (message.buffers) {\n",
              "          for (const buffer of message.buffers) {\n",
              "            buffers.push(buffer);\n",
              "            downloaded += buffer.byteLength;\n",
              "            progress.value = downloaded;\n",
              "          }\n",
              "        }\n",
              "      }\n",
              "      const blob = new Blob(buffers, {type: 'application/binary'});\n",
              "      const a = document.createElement('a');\n",
              "      a.href = window.URL.createObjectURL(blob);\n",
              "      a.download = filename;\n",
              "      div.appendChild(a);\n",
              "      a.click();\n",
              "      div.remove();\n",
              "    }\n",
              "  "
            ],
            "text/plain": [
              "<IPython.core.display.Javascript object>"
            ]
          },
          "metadata": {
            "tags": []
          }
        },
        {
          "output_type": "display_data",
          "data": {
            "application/javascript": [
              "download(\"download_1a5c58c0-213b-43a2-a01b-d842659d4de3\", \"NYSDOH_clean.csv\", 49835189)"
            ],
            "text/plain": [
              "<IPython.core.display.Javascript object>"
            ]
          },
          "metadata": {
            "tags": []
          }
        }
      ]
    }
  ]
}
