{
  "nbformat": 4,
  "nbformat_minor": 0,
  "metadata": {
    "colab": {
      "name": "NYSDOH_DataWrangling_PreProcessing",
      "provenance": [],
      "authorship_tag": "ABX9TyMpJiNMz+F1w1l7ndXDco22"
    },
    "kernelspec": {
      "name": "python3",
      "display_name": "Python 3"
    }
  },
  "cells": [
    {
      "cell_type": "code",
      "metadata": {
        "id": "c0lEWK_10sS6"
      },
      "source": [
        "import numpy as np\n",
        "import pandas as pd\n",
        "import matplotlib.pyplot as plt\n",
        "import seaborn as sns\n",
        "from wordcloud import WordCloud\n",
        "from google.colab import files"
      ],
      "execution_count": null,
      "outputs": []
    },
    {
      "cell_type": "code",
      "metadata": {
        "id": "tHe-eacn1C3_"
      },
      "source": [
        "df=pd.read_csv('/content/sample_data/NYSDOH_clean2.csv')"
      ],
      "execution_count": null,
      "outputs": []
    },
    {
      "cell_type": "code",
      "metadata": {
        "id": "p7O_NFgQ1G9C"
      },
      "source": [
        "df=df.drop(['Unnamed:_0','Unnamed: 0'],axis=1)"
      ],
      "execution_count": null,
      "outputs": []
    },
    {
      "cell_type": "code",
      "metadata": {
        "colab": {
          "base_uri": "https://localhost:8080/"
        },
        "id": "ZQZEyPgALbl6",
        "outputId": "84a367e8-4afc-4b84-ca53-e7fbab368da2"
      },
      "source": [
        "df.columns"
      ],
      "execution_count": null,
      "outputs": [
        {
          "output_type": "execute_result",
          "data": {
            "text/plain": [
              "Index(['Hospital_Service_Area', 'Hospital_County',\n",
              "       'Operating_Certificate_Number', 'Permanent_Facility_Id',\n",
              "       'Facility_Name', 'Age_Group', 'Zip_Code__3_digits', 'Gender', 'Race',\n",
              "       'Length_of_Stay', 'Type_of_Admission', 'Patient_Disposition',\n",
              "       'Discharge_Year', 'CCS_Diagnosis_Code', 'CCS_Diagnosis_Description',\n",
              "       'CCS_Procedure_Code', 'CCS_Procedure_Description', 'APR_DRG_Code',\n",
              "       'APR_DRG_Description', 'APR_MDC_Code', 'APR_MDC_Description',\n",
              "       'APR_Severity_of_Illness_Code', 'APR_Severity_of_Illness_Description',\n",
              "       'APR_Risk_of_Mortality', 'APR_Medical_Surgical_Description',\n",
              "       'Payment_Typology_1', 'Payment_Typology_2', 'Payment_Typology_3',\n",
              "       'Birth_Weight', 'Abortion_Edit_Indicator',\n",
              "       'Emergency_Department_Indicator', 'Total_Charges', 'Total_Costs',\n",
              "       'Ratio_of_Total_Costs_to_Total_Charges', 'Length_groups'],\n",
              "      dtype='object')"
            ]
          },
          "metadata": {
            "tags": []
          },
          "execution_count": 4
        }
      ]
    },
    {
      "cell_type": "code",
      "metadata": {
        "colab": {
          "base_uri": "https://localhost:8080/"
        },
        "id": "uibM-KsZLrMX",
        "outputId": "ecb98c71-5030-4838-953c-83382258770e"
      },
      "source": [
        "df.shape"
      ],
      "execution_count": null,
      "outputs": [
        {
          "output_type": "execute_result",
          "data": {
            "text/plain": [
              "(118049, 35)"
            ]
          },
          "metadata": {
            "tags": []
          },
          "execution_count": 5
        }
      ]
    },
    {
      "cell_type": "code",
      "metadata": {
        "id": "gxvthJYaLm8s"
      },
      "source": [
        "# Drop columns that will not be relevant to predicting length of stay, will be repetitive of information in other columns,codes or status determined at discharge or toward discharge\n",
        "df=df.drop(['Operating_Certificate_Number', 'Permanent_Facility_Id','Patient_Disposition',\n",
        "       'Discharge_Year','APR_DRG_Code',\n",
        "       'APR_DRG_Description', 'APR_MDC_Code', 'APR_MDC_Description',\n",
        "       'APR_Severity_of_Illness_Code', 'APR_Severity_of_Illness_Description',\n",
        "       'APR_Risk_of_Mortality', 'APR_Medical_Surgical_Description','Payment_Typology_2', 'Payment_Typology_3',\n",
        "       'Birth_Weight', 'Abortion_Edit_Indicator','Total_Charges', 'Total_Costs',\n",
        "       'Ratio_of_Total_Costs_to_Total_Charges'],axis=1)"
      ],
      "execution_count": null,
      "outputs": []
    },
    {
      "cell_type": "code",
      "metadata": {
        "colab": {
          "base_uri": "https://localhost:8080/"
        },
        "id": "asRibGp8MtJa",
        "outputId": "527c7142-cf53-4657-9fa9-32cd5c36d144"
      },
      "source": [
        "df.columns"
      ],
      "execution_count": null,
      "outputs": [
        {
          "output_type": "execute_result",
          "data": {
            "text/plain": [
              "Index(['Hospital_Service_Area', 'Hospital_County', 'Facility_Name',\n",
              "       'Age_Group', 'Zip_Code__3_digits', 'Gender', 'Race', 'Length_of_Stay',\n",
              "       'Type_of_Admission', 'CCS_Diagnosis_Code', 'CCS_Diagnosis_Description',\n",
              "       'CCS_Procedure_Code', 'CCS_Procedure_Description', 'Payment_Typology_1',\n",
              "       'Emergency_Department_Indicator', 'Length_groups'],\n",
              "      dtype='object')"
            ]
          },
          "metadata": {
            "tags": []
          },
          "execution_count": 7
        }
      ]
    },
    {
      "cell_type": "code",
      "metadata": {
        "id": "lAfMJ2hC2oEv"
      },
      "source": [
        "# Create length of stay bins, For 1 day: 24 hour stay, 2-5 days(below mean),\n",
        "# 6-20 days(above mean to 20),21 to 90 days(short term rehab hospital stay common durations) \n",
        "# and 90+ days(long term faciltities). The upper limits of the ranges were used\n",
        "bins=[-np.inf,1,5,20,90,np.inf]\n",
        "#bin labels\n",
        "labels=['0-1','2-5','6-20','21-90','91-120']\n",
        "df['length_groups']=pd.cut(df['Length_of_Stay'],bins,labels=labels)"
      ],
      "execution_count": null,
      "outputs": []
    },
    {
      "cell_type": "code",
      "metadata": {
        "id": "RjGtbVm44hds",
        "colab": {
          "base_uri": "https://localhost:8080/",
          "height": 285
        },
        "outputId": "f003c1b3-ba89-46af-9563-99d09c2cb5ca"
      },
      "source": [
        "sns.histplot(x=df['length_groups'])\n",
        "plt.show()"
      ],
      "execution_count": null,
      "outputs": [
        {
          "output_type": "display_data",
          "data": {
            "image/png": "[encoded data removed]",
            "text/plain": [
              "<Figure size 432x288 with 1 Axes>"
            ]
          },
          "metadata": {
            "tags": []
          }
        }
      ]
    },
    {
      "cell_type": "code",
      "metadata": {
        "id": "jvD0i7fXBMv8",
        "colab": {
          "base_uri": "https://localhost:8080/"
        },
        "outputId": "132f5645-e23f-4bb9-df57-875314f32b0b"
      },
      "source": [
        "# remap age groups\n",
        "dict={'70 or Older':80, '50 to 69':60,'30 to 49':40 , '18 to 29':20, '0 to 17':10}\n",
        "df=df.replace({'Age_Group':dict})\n",
        "df.Age_Group.unique()"
      ],
      "execution_count": null,
      "outputs": [
        {
          "output_type": "execute_result",
          "data": {
            "text/plain": [
              "array([40, 20, 10, 80, 60])"
            ]
          },
          "metadata": {
            "tags": []
          },
          "execution_count": 20
        }
      ]
    },
    {
      "cell_type": "code",
      "metadata": {
        "id": "M_HG0tRIR6oM"
      },
      "source": [
        "# Rename 'Length_groups' (binary) to 'Below_Above_Mean', keep 'length_groups' column for multiclass length groups\n",
        "df.rename(columns={'Length_groups': 'Below_Above_mean'}, inplace=True)"
      ],
      "execution_count": null,
      "outputs": []
    },
    {
      "cell_type": "code",
      "metadata": {
        "id": "VE7mEhCsTir_"
      },
      "source": [
        "# CCS procedure code provides same information as the description, drop procedure codes\n",
        "df=df.drop('CCS_Procedure_Code',axis=1)"
      ],
      "execution_count": null,
      "outputs": []
    },
    {
      "cell_type": "code",
      "metadata": {
        "id": "ryjlRM56UGsb"
      },
      "source": [
        "# drop CCS diagnosis Codes and keep description\n",
        "df=df.drop('CCS_Diagnosis_Code',axis=1)"
      ],
      "execution_count": null,
      "outputs": []
    },
    {
      "cell_type": "code",
      "metadata": {
        "id": "t8ACYTtyVHah"
      },
      "source": [
        "#create a column with mean length of stay for each diagnosis group:MeanLOS_byD\n",
        "dfdiag=df.groupby('CCS_Diagnosis_Description')['Length_of_Stay'].mean().reset_index()\n",
        "dfdiag.rename(columns={'Length_of_Stay':'Diag_mean'},inplace=True)\n",
        "dfdiag.shape\n",
        "df['MeanLOS_byD']=df['CCS_Diagnosis_Description']\n",
        "listk=dfdiag['CCS_Diagnosis_Description'].tolist()\n",
        "d={}\n",
        "# COnvert to dictionary\n",
        "d = {listk[i]: listv[i] for i in range(len(listk))}\n",
        "df=df.replace({'MeanLOS_byD':d})"
      ],
      "execution_count": null,
      "outputs": []
    },
    {
      "cell_type": "code",
      "metadata": {
        "id": "_xSnmLC8bHYk"
      },
      "source": [
        "# Create a column mean length of stay by procedure: MeanLOS_byP\n",
        "df['MeanLOS_byP']=df['CCS_Procedure_Description']\n",
        "dfproc=df.groupby('CCS_Procedure_Description')['Length_of_Stay'].mean().reset_index()\n",
        "dfproc.rename(columns={'Length_of_Stay':'Proc_mean'},inplace=True)\n",
        "listK=dfproc['CCS_Procedure_Description'].tolist()\n",
        "listV=dfproc['Proc_mean'].tolist()\n",
        "d={listK[i]:listV[i] for i in range(len(listK))}\n",
        "df=df.replace({'MeanLOS_byP':d})"
      ],
      "execution_count": null,
      "outputs": []
    },
    {
      "cell_type": "markdown",
      "metadata": {
        "id": "TXsu7fVhCc_4"
      },
      "source": [
        "The binary column (Below_Above_mean) will be used as target varaible column during modelling, the rest of columns with lenth of stay will be dropped. For modelling the X features will be converted to dummy variables as per the machine learning model requirements."
      ]
    },
    {
      "cell_type": "code",
      "metadata": {
        "id": "LyxACquaSdvz"
      },
      "source": [
        "# save and download the file: nysdoh_feature.csv\n",
        "df.to_csv('nysdoh_feature.csv')\n",
        "files.download('nysdoh_feature.csv')"
      ],
      "execution_count": null,
      "outputs": []
    }
  ]
}