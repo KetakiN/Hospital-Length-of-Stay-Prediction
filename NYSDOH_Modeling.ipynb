{
  "nbformat": 4,
  "nbformat_minor": 0,
  "metadata": {
    "colab": {
      "name": "NYSDOH_Modeling",
      "provenance": [],
      "collapsed_sections": [],
      "authorship_tag": "ABX9TyN1BnNpmaM/GRrWHgmcn29X"
    },
    "kernelspec": {
      "display_name": "Python 3",
      "name": "python3"
    },
    "language_info": {
      "name": "python"
    }
  },
  "cells": [
    {
      "cell_type": "code",
      "metadata": {
        "id": "XX2vIoJ3z7rk"
      },
      "source": [
        "# import modules\n",
        "import pandas as pd\n",
        "import numpy as np\n",
        "from sklearn.ensemble import RandomForestClassifier\n",
        "from sklearn.datasets import make_classification\n",
        "from sklearn.model_selection import train_test_split\n",
        "from sklearn.pipeline import make_pipeline\n",
        "from sklearn.preprocessing import StandardScaler\n",
        "from sklearn.metrics import mean_squared_error\n",
        "from sklearn.model_selection import GridSearchCV\n",
        "from sklearn.model_selection import RandomizedSearchCV\n",
        "import seaborn as sns\n",
        "from sklearn.metrics import accuracy_score\n",
        "from sklearn.linear_model import LogisticRegression\n",
        "from sklearn.model_selection import cross_val_score\n",
        "import time\n",
        "from sklearn import metrics\n",
        "from sklearn.metrics import confusion_matrix\n",
        "import matplotlib.pyplot as plt\n",
        "from sklearn.metrics import classification_report\n",
        "from sklearn.preprocessing import RobustScaler\n",
        "from sklearn.feature_selection import SelectKBest\n",
        "from sklearn.feature_selection import chi2\n",
        "from google.colab import files\n",
        "from itertools import cycle\n",
        "from sklearn.metrics import f1_score\n",
        "from sklearn.metrics import roc_curve, auc\n",
        "from sklearn.preprocessing import label_binarize\n",
        "from sklearn.metrics import roc_auc_score\n",
        "from sklearn.metrics import precision_recall_curve, auc"
      ],
      "execution_count": null,
      "outputs": []
    },
    {
      "cell_type": "code",
      "metadata": {
        "colab": {
          "base_uri": "https://localhost:8080/"
        },
        "id": "oT8_1HfNnPAw",
        "outputId": "893865f8-7a5f-4c13-a882-f02557bf8c11"
      },
      "source": [
        "pip install catboost"
      ],
      "execution_count": null,
      "outputs": [
        {
          "output_type": "stream",
          "text": [
            "Collecting catboost\n",
            "\u001b[?25l  Downloading https://files.pythonhosted.org/packages/47/80/8e9c57ec32dfed6ba2922bc5c96462cbf8596ce1a6f5de532ad1e43e53fe/catboost-0.25.1-cp37-none-manylinux1_x86_64.whl (67.3MB)\n",
            "\u001b[K     |████████████████████████████████| 67.3MB 57kB/s \n",
            "\u001b[?25hRequirement already satisfied: scipy in /usr/local/lib/python3.7/dist-packages (from catboost) (1.4.1)\n",
            "Requirement already satisfied: pandas>=0.24.0 in /usr/local/lib/python3.7/dist-packages (from catboost) (1.1.5)\n",
            "Requirement already satisfied: plotly in /usr/local/lib/python3.7/dist-packages (from catboost) (4.4.1)\n",
            "Requirement already satisfied: numpy>=1.16.0 in /usr/local/lib/python3.7/dist-packages (from catboost) (1.19.5)\n",
            "Requirement already satisfied: matplotlib in /usr/local/lib/python3.7/dist-packages (from catboost) (3.2.2)\n",
            "Requirement already satisfied: graphviz in /usr/local/lib/python3.7/dist-packages (from catboost) (0.10.1)\n",
            "Requirement already satisfied: six in /usr/local/lib/python3.7/dist-packages (from catboost) (1.15.0)\n",
            "Requirement already satisfied: python-dateutil>=2.7.3 in /usr/local/lib/python3.7/dist-packages (from pandas>=0.24.0->catboost) (2.8.1)\n",
            "Requirement already satisfied: pytz>=2017.2 in /usr/local/lib/python3.7/dist-packages (from pandas>=0.24.0->catboost) (2018.9)\n",
            "Requirement already satisfied: retrying>=1.3.3 in /usr/local/lib/python3.7/dist-packages (from plotly->catboost) (1.3.3)\n",
            "Requirement already satisfied: cycler>=0.10 in /usr/local/lib/python3.7/dist-packages (from matplotlib->catboost) (0.10.0)\n",
            "Requirement already satisfied: kiwisolver>=1.0.1 in /usr/local/lib/python3.7/dist-packages (from matplotlib->catboost) (1.3.1)\n",
            "Requirement already satisfied: pyparsing!=2.0.4,!=2.1.2,!=2.1.6,>=2.0.1 in /usr/local/lib/python3.7/dist-packages (from matplotlib->catboost) (2.4.7)\n",
            "Installing collected packages: catboost\n",
            "Successfully installed catboost-0.25.1\n"
          ],
          "name": "stdout"
        }
      ]
    },
    {
      "cell_type": "code",
      "metadata": {
        "id": "_Ar6OLkimqUo"
      },
      "source": [
        "import catboost as cb"
      ],
      "execution_count": null,
      "outputs": []
    },
    {
      "cell_type": "markdown",
      "metadata": {
        "id": "YToTq-5H6pi2"
      },
      "source": [
        "Three types of models were used: Random Forest Classifier, Logistic Regression classifier and CatBoost Classifier. Grid Searching was carried out to pick best parameters which were then applied to the ultimate models. The models were then compared.\n",
        "\n",
        "\n"
      ]
    },
    {
      "cell_type": "markdown",
      "metadata": {
        "id": "x-3HDwKA3CZO"
      },
      "source": [
        "Look at the dataset"
      ]
    },
    {
      "cell_type": "code",
      "metadata": {
        "id": "T-v0jsezz-Jc"
      },
      "source": [
        "# upload the dataset\n",
        "df=pd.read_csv('/content/sample_data/nysdoh_feature.csv')"
      ],
      "execution_count": null,
      "outputs": []
    },
    {
      "cell_type": "code",
      "metadata": {
        "colab": {
          "base_uri": "https://localhost:8080/",
          "height": 379
        },
        "id": "RW42guL4EgFq",
        "outputId": "b65cd699-131d-47c2-f681-1186b600eeb5"
      },
      "source": [
        "# look at first 5 rows\n",
        "df.head()"
      ],
      "execution_count": null,
      "outputs": [
        {
          "output_type": "execute_result",
          "data": {
            "text/html": [
              "<div>\n",
              "<style scoped>\n",
              "    .dataframe tbody tr th:only-of-type {\n",
              "        vertical-align: middle;\n",
              "    }\n",
              "\n",
              "    .dataframe tbody tr th {\n",
              "        vertical-align: top;\n",
              "    }\n",
              "\n",
              "    .dataframe thead th {\n",
              "        text-align: right;\n",
              "    }\n",
              "</style>\n",
              "<table border=\"1\" class=\"dataframe\">\n",
              "  <thead>\n",
              "    <tr style=\"text-align: right;\">\n",
              "      <th></th>\n",
              "      <th>Unnamed: 0</th>\n",
              "      <th>Hospital_Service_Area</th>\n",
              "      <th>Hospital_County</th>\n",
              "      <th>Facility_Name</th>\n",
              "      <th>Age_Group</th>\n",
              "      <th>Zip_Code__3_digits</th>\n",
              "      <th>Gender</th>\n",
              "      <th>Race</th>\n",
              "      <th>Length_of_Stay</th>\n",
              "      <th>Type_of_Admission</th>\n",
              "      <th>CCS_Diagnosis_Description</th>\n",
              "      <th>CCS_Procedure_Description</th>\n",
              "      <th>Payment_Typology_1</th>\n",
              "      <th>Emergency_Department_Indicator</th>\n",
              "      <th>Below_Above_mean</th>\n",
              "      <th>length_groups</th>\n",
              "      <th>MeanLOS_byD</th>\n",
              "      <th>MeanLOS_byP</th>\n",
              "    </tr>\n",
              "  </thead>\n",
              "  <tbody>\n",
              "    <tr>\n",
              "      <th>0</th>\n",
              "      <td>0</td>\n",
              "      <td>Western NY</td>\n",
              "      <td>Erie</td>\n",
              "      <td>Buffalo General Medical Center</td>\n",
              "      <td>40</td>\n",
              "      <td>142</td>\n",
              "      <td>F</td>\n",
              "      <td>W</td>\n",
              "      <td>3.0</td>\n",
              "      <td>Elective</td>\n",
              "      <td>Osteoarthritis</td>\n",
              "      <td>HIP REPLACEMENT,TOT/PRT</td>\n",
              "      <td>MCR</td>\n",
              "      <td>N</td>\n",
              "      <td>below_mean</td>\n",
              "      <td>2-5</td>\n",
              "      <td>3.125348</td>\n",
              "      <td>3.901561</td>\n",
              "    </tr>\n",
              "    <tr>\n",
              "      <th>1</th>\n",
              "      <td>1</td>\n",
              "      <td>Western NY</td>\n",
              "      <td>Erie</td>\n",
              "      <td>Women And Children's Hospital Of Buffalo</td>\n",
              "      <td>20</td>\n",
              "      <td>OOS</td>\n",
              "      <td>F</td>\n",
              "      <td>AA</td>\n",
              "      <td>5.0</td>\n",
              "      <td>Urgent</td>\n",
              "      <td>Hypertension complicating pregnancy; childbirt...</td>\n",
              "      <td>CESAREAN SECTION</td>\n",
              "      <td>SP</td>\n",
              "      <td>N</td>\n",
              "      <td>below_mean</td>\n",
              "      <td>2-5</td>\n",
              "      <td>3.882438</td>\n",
              "      <td>3.798021</td>\n",
              "    </tr>\n",
              "    <tr>\n",
              "      <th>2</th>\n",
              "      <td>2</td>\n",
              "      <td>Western NY</td>\n",
              "      <td>Chautauqua</td>\n",
              "      <td>Brooks Memorial Hospital</td>\n",
              "      <td>10</td>\n",
              "      <td>140</td>\n",
              "      <td>M</td>\n",
              "      <td>W</td>\n",
              "      <td>3.0</td>\n",
              "      <td>Newborn</td>\n",
              "      <td>Liveborn</td>\n",
              "      <td>NO PROC</td>\n",
              "      <td>MCD</td>\n",
              "      <td>N</td>\n",
              "      <td>below_mean</td>\n",
              "      <td>2-5</td>\n",
              "      <td>3.599619</td>\n",
              "      <td>4.659893</td>\n",
              "    </tr>\n",
              "    <tr>\n",
              "      <th>3</th>\n",
              "      <td>3</td>\n",
              "      <td>Western NY</td>\n",
              "      <td>Cattaraugus</td>\n",
              "      <td>Olean General Hospital</td>\n",
              "      <td>40</td>\n",
              "      <td>147</td>\n",
              "      <td>F</td>\n",
              "      <td>W</td>\n",
              "      <td>6.0</td>\n",
              "      <td>Emergency</td>\n",
              "      <td>Complication of device; implant or graft</td>\n",
              "      <td>NO PROC</td>\n",
              "      <td>MCR</td>\n",
              "      <td>Y</td>\n",
              "      <td>above_mean</td>\n",
              "      <td>6-20</td>\n",
              "      <td>7.169666</td>\n",
              "      <td>4.659893</td>\n",
              "    </tr>\n",
              "    <tr>\n",
              "      <th>4</th>\n",
              "      <td>4</td>\n",
              "      <td>Western NY</td>\n",
              "      <td>Cattaraugus</td>\n",
              "      <td>Olean General Hospital</td>\n",
              "      <td>10</td>\n",
              "      <td>147</td>\n",
              "      <td>F</td>\n",
              "      <td>W</td>\n",
              "      <td>2.0</td>\n",
              "      <td>Newborn</td>\n",
              "      <td>Liveborn</td>\n",
              "      <td>PROPHYLACTIC VAC/INOCUL</td>\n",
              "      <td>BCBS</td>\n",
              "      <td>N</td>\n",
              "      <td>below_mean</td>\n",
              "      <td>2-5</td>\n",
              "      <td>3.599619</td>\n",
              "      <td>2.707005</td>\n",
              "    </tr>\n",
              "  </tbody>\n",
              "</table>\n",
              "</div>"
            ],
            "text/plain": [
              "   Unnamed: 0 Hospital_Service_Area  ... MeanLOS_byD MeanLOS_byP\n",
              "0           0            Western NY  ...    3.125348    3.901561\n",
              "1           1            Western NY  ...    3.882438    3.798021\n",
              "2           2            Western NY  ...    3.599619    4.659893\n",
              "3           3            Western NY  ...    7.169666    4.659893\n",
              "4           4            Western NY  ...    3.599619    2.707005\n",
              "\n",
              "[5 rows x 18 columns]"
            ]
          },
          "metadata": {
            "tags": []
          },
          "execution_count": 5
        }
      ]
    },
    {
      "cell_type": "code",
      "metadata": {
        "colab": {
          "base_uri": "https://localhost:8080/"
        },
        "id": "XWyJFYjdKSCP",
        "outputId": "57307d9a-fbfb-4bed-df3e-4f2d4cee0f7d"
      },
      "source": [
        "df.shape"
      ],
      "execution_count": null,
      "outputs": [
        {
          "output_type": "execute_result",
          "data": {
            "text/plain": [
              "(118049, 18)"
            ]
          },
          "metadata": {
            "tags": []
          },
          "execution_count": 6
        }
      ]
    },
    {
      "cell_type": "markdown",
      "metadata": {
        "id": "rvjXXZQA3GZT"
      },
      "source": [
        "# Run a Random Search to test different parameters for Random Forest "
      ]
    },
    {
      "cell_type": "code",
      "metadata": {
        "id": "2elfn0YCz-Tv"
      },
      "source": [
        "# Run a Random Grid Search CV on a fraction of the dataset to save computing time and improve efficiency\n",
        "# Use roc_auc and f1_macro averaging for scoring, use two searches, to estimate best parameters, our main prediction of interest is 'above_mean' which is the minority group\n",
        "# Hyperparameter tuning on Random Forest Classifier\n",
        "# take those parameters and apply them to the df dataframe\n",
        "# Time the model fit \n",
        "\n",
        "filepath='/content/sample_data/nysdoh_feature.csv'\n"
      ],
      "execution_count": null,
      "outputs": []
    },
    {
      "cell_type": "code",
      "metadata": {
        "id": "Vjd1v7-T2r8T"
      },
      "source": [
        "# take a sample of dfo for purposes of random search cv to get best params while improving efficiency by not doing grid search on the bigger df dataset\n",
        "chunk_size=50000\n",
        "df1=pd.DataFrame()\n",
        "for chunk in pd.read_csv(filepath,chunksize=chunk_size,low_memory=False):\n",
        "    df2=chunk.sample(frac=0.05)\n",
        "    df=pd.concat([df1, df2])\n",
        "    df1=df\n",
        "# drop unwanted columns\n",
        "df1=df1.drop(['Unnamed: 0','MeanLOS_byD', 'MeanLOS_byP'],axis=1)\n",
        "#Determine columns for X\n",
        "X=df1.drop(['Length_of_Stay',\n",
        "        'Below_Above_mean', 'length_groups'\n",
        "       ],axis=1)\n",
        "# Due to categorical data, covert X column features to dummy variables to prepare for modelling\n",
        "X=pd.get_dummies(X,drop_first=True)\n",
        "# Target column is Below_Above_mean which has two classes. Map the classes and assign class of interest: above_mean to 1\n",
        "Binary = {'above_mean': 1, 'below_mean': 0}\n",
        "df1['Below_Above_mean'] = df1['Below_Above_mean'].map(Binary)\n",
        "# conisder y variable as binary length groups\n",
        "y=df1['Below_Above_mean']\n",
        "# Complete a train test split\n",
        "X_train,X_test,y_train,y_test=train_test_split(X,y,test_size=0.2,random_state=1)"
      ],
      "execution_count": null,
      "outputs": []
    },
    {
      "cell_type": "code",
      "metadata": {
        "colab": {
          "base_uri": "https://localhost:8080/"
        },
        "id": "f_ko4KaK5LGY",
        "outputId": "648d7ebb-76e2-4c8f-8048-c9a10e7cb54d"
      },
      "source": [
        "# check dataset shape\n",
        "df1.shape"
      ],
      "execution_count": null,
      "outputs": [
        {
          "output_type": "execute_result",
          "data": {
            "text/plain": [
              "(5902, 15)"
            ]
          },
          "metadata": {
            "tags": []
          },
          "execution_count": 14
        }
      ]
    },
    {
      "cell_type": "code",
      "metadata": {
        "colab": {
          "base_uri": "https://localhost:8080/"
        },
        "id": "2A6xgWCh5ZEQ",
        "outputId": "04cb96fa-637e-46ee-d663-d52f76feacfe"
      },
      "source": [
        "# Create a search grid\n",
        "#Number of trees in random forest\n",
        "n_estimators = [int(x) for x in range(100,350,50)]\n",
        "# Number of features to consider at every split\n",
        "max_features = ['auto', 'sqrt']\n",
        "# Maximum number of levels in tree\n",
        "max_depth = [50,100]\n",
        "max_depth.append(None)\n",
        "# Minimum number of samples required to split a node\n",
        "min_samples_split = [2, 5, 10]\n",
        "# Minimum number of samples required at each leaf node\n",
        "min_samples_leaf = [1, 2, 4]\n",
        "# Method of selecting samples for training each tree\n",
        "bootstrap = [True, False]\n",
        "# Create the random grid\n",
        "random_grid = {'n_estimators': n_estimators,\n",
        "               'max_features': max_features,\n",
        "               'max_depth': max_depth,\n",
        "               'min_samples_split': min_samples_split,\n",
        "               'min_samples_leaf': min_samples_leaf,\n",
        "               'bootstrap': bootstrap}\n",
        "\n",
        "print(random_grid)"
      ],
      "execution_count": null,
      "outputs": [
        {
          "output_type": "stream",
          "text": [
            "{'n_estimators': [100, 150, 200, 250, 300], 'max_features': ['auto', 'sqrt'], 'max_depth': [50, 100, None], 'min_samples_split': [2, 5, 10], 'min_samples_leaf': [1, 2, 4], 'bootstrap': [True, False]}\n"
          ],
          "name": "stdout"
        }
      ]
    },
    {
      "cell_type": "markdown",
      "metadata": {
        "id": "2W9iGyLBoOwG"
      },
      "source": [
        "# Using roc_auc scoring for Random Grid Search"
      ]
    },
    {
      "cell_type": "code",
      "metadata": {
        "colab": {
          "base_uri": "https://localhost:8080/"
        },
        "id": "FIgLtnv0oSMs",
        "outputId": "ab713209-b4ee-41c4-ac6d-23e1511f1482"
      },
      "source": [
        "# check code time\n",
        "time_start=time.perf_counter()\n",
        "# Use the random grid to search for best hyperparameters\n",
        "# Instantiate the Random Forest Classifier\n",
        "rf = RandomForestClassifier()\n",
        "# Random search of parameters, using 3 fold cross validation, \n",
        "# search across 100 different combinations, and use all available cores\n",
        "rf_random = RandomizedSearchCV(estimator = rf, param_distributions = random_grid, n_iter = 100, cv = 3, verbose=2, random_state=42, n_jobs = -1,scoring='roc_auc')\n",
        "# Fit the random search model\n",
        "rf_random.fit(X_train, y_train)\n",
        "time_end=time.perf_counter()\n",
        "print((time_end-time_start)/60)"
      ],
      "execution_count": null,
      "outputs": [
        {
          "output_type": "stream",
          "text": [
            "Fitting 3 folds for each of 100 candidates, totalling 300 fits\n"
          ],
          "name": "stdout"
        },
        {
          "output_type": "stream",
          "text": [
            "[Parallel(n_jobs=-1)]: Using backend LokyBackend with 2 concurrent workers.\n",
            "[Parallel(n_jobs=-1)]: Done  37 tasks      | elapsed:  1.8min\n",
            "[Parallel(n_jobs=-1)]: Done 158 tasks      | elapsed:  7.1min\n",
            "[Parallel(n_jobs=-1)]: Done 300 out of 300 | elapsed: 12.8min finished\n"
          ],
          "name": "stderr"
        },
        {
          "output_type": "stream",
          "text": [
            "12.863404452366668\n"
          ],
          "name": "stdout"
        }
      ]
    },
    {
      "cell_type": "code",
      "metadata": {
        "colab": {
          "base_uri": "https://localhost:8080/"
        },
        "id": "M6NYhJHTriEK",
        "outputId": "26740ab4-b5d9-4036-dee7-d1831e9fbf58"
      },
      "source": [
        "#look at best parameters\n",
        "rf_random.best_params_"
      ],
      "execution_count": null,
      "outputs": [
        {
          "output_type": "execute_result",
          "data": {
            "text/plain": [
              "{'bootstrap': False,\n",
              " 'max_depth': 50,\n",
              " 'max_features': 'auto',\n",
              " 'min_samples_leaf': 2,\n",
              " 'min_samples_split': 10,\n",
              " 'n_estimators': 200}"
            ]
          },
          "metadata": {
            "tags": []
          },
          "execution_count": 17
        }
      ]
    },
    {
      "cell_type": "markdown",
      "metadata": {
        "id": "O5jq5giOrCJt"
      },
      "source": [
        "# Applying the best params(scoring=roc_auc) to the random forest model "
      ]
    },
    {
      "cell_type": "code",
      "metadata": {
        "id": "4orDf2YHqf2V"
      },
      "source": [
        "# load the dataset\n",
        "df=pd.read_csv('/content/sample_data/nysdoh_feature.csv')\n",
        "# remove unwanted columns\n",
        "df=df.drop(['Unnamed: 0','MeanLOS_byD', 'MeanLOS_byP'],axis=1)\n"
      ],
      "execution_count": null,
      "outputs": []
    },
    {
      "cell_type": "code",
      "metadata": {
        "colab": {
          "base_uri": "https://localhost:8080/"
        },
        "id": "0BBDSrAAwSB8",
        "outputId": "f069536a-83b0-4879-f0ec-aac28b0f5eca"
      },
      "source": [
        "df.shape"
      ],
      "execution_count": null,
      "outputs": [
        {
          "output_type": "execute_result",
          "data": {
            "text/plain": [
              "(118049, 15)"
            ]
          },
          "metadata": {
            "tags": []
          },
          "execution_count": 8
        }
      ]
    },
    {
      "cell_type": "code",
      "metadata": {
        "colab": {
          "base_uri": "https://localhost:8080/"
        },
        "id": "vxz4mxI7wZL9",
        "outputId": "7f90e1b5-9e34-45cd-affc-42c003d52e6e"
      },
      "source": [
        "df.columns"
      ],
      "execution_count": null,
      "outputs": [
        {
          "output_type": "execute_result",
          "data": {
            "text/plain": [
              "Index(['Hospital_Service_Area', 'Hospital_County', 'Facility_Name',\n",
              "       'Age_Group', 'Zip_Code__3_digits', 'Gender', 'Race', 'Length_of_Stay',\n",
              "       'Type_of_Admission', 'CCS_Diagnosis_Description',\n",
              "       'CCS_Procedure_Description', 'Payment_Typology_1',\n",
              "       'Emergency_Department_Indicator', 'Below_Above_mean', 'length_groups'],\n",
              "      dtype='object')"
            ]
          },
          "metadata": {
            "tags": []
          },
          "execution_count": 9
        }
      ]
    },
    {
      "cell_type": "code",
      "metadata": {
        "id": "RqqQcpw5wPax"
      },
      "source": [
        "# Target column is Below_Above_mean which has two classes. Map the classes and assign class of interest: above_mean to 1\n",
        "Binary = {'above_mean': 1, 'below_mean': 0}\n",
        "\n",
        "df['Below_Above_mean'] = df['Below_Above_mean'].map(Binary)\n",
        "#assign target column to y\n",
        "y=df['Below_Above_mean']\n",
        "# assign X\n",
        "X=df.drop(['Length_of_Stay',\n",
        "        'Below_Above_mean', 'length_groups'\n",
        "       ],axis=1)\n"
      ],
      "execution_count": null,
      "outputs": []
    },
    {
      "cell_type": "code",
      "metadata": {
        "id": "ae2GXjnAzk5l"
      },
      "source": [
        "# assign dummy varaibales to categorical data\n",
        "X=pd.get_dummies(X,drop_first=True)"
      ],
      "execution_count": null,
      "outputs": []
    },
    {
      "cell_type": "code",
      "metadata": {
        "id": "QSog1wgAs8GP"
      },
      "source": [
        "from numpy import sqrt\n",
        "from numpy import argmax\n",
        "from sklearn.datasets import make_classification\n",
        "from sklearn.linear_model import LogisticRegression\n",
        "from sklearn.model_selection import train_test_split\n",
        "from sklearn.metrics import roc_curve\n",
        "from matplotlib import pyplot"
      ],
      "execution_count": null,
      "outputs": []
    },
    {
      "cell_type": "code",
      "metadata": {
        "id": "0ryf8Y33pd5y"
      },
      "source": [
        "# roc curve for RF model with optimal threshold\n",
        "\n",
        "# split into train/test sets\n",
        "trainX, testX, trainy, testy = train_test_split(X, y, test_size=0.5, random_state=2, stratify=y)\n",
        "# fit a model\n",
        "model = RandomForestClassifier(bootstrap= False,\n",
        " max_depth= 50,\n",
        " max_features='auto',\n",
        " min_samples_leaf=2,\n",
        " min_samples_split=10,\n",
        " n_estimators= 200)\n",
        "model.fit(trainX, trainy)\n",
        "# predict probabilities\n",
        "yhat = model.predict_proba(testX)\n"
      ],
      "execution_count": null,
      "outputs": []
    },
    {
      "cell_type": "code",
      "metadata": {
        "colab": {
          "base_uri": "https://localhost:8080/",
          "height": 128
        },
        "id": "erhdi6hNWpeW",
        "outputId": "595bf6f9-6d53-473f-fcf7-c0e1d9e5e7a6"
      },
      "source": [
        "# Best threshold based on f1 score for positive class\n",
        "# apply threshold to positive probabilities to create labels\n",
        "def to_labels(pos_probs, threshold):\n",
        "\treturn (pos_probs >= threshold).astype('int')\n",
        " \n",
        "# keep probabilities for the positive outcome only\n",
        "probs = yhat[:, 1]\n",
        "# define thresholds\n",
        "thresholds = np.arange(0, 1, 0.001)\n",
        "# evaluate each threshold\n",
        "scores = [f1_score(testy, to_labels(probs, t)) for t in thresholds]\n",
        "# get best threshold\n",
        "ix = np.argmax(scores)\n",
        "print('Threshold=%.3f, F-Score=%.5f' % (thresholds[ix], scores[ix]))\n",
        "# Best threshold for f1 score: THRESHOLD\n",
        "THRESHOLD=thresholds[ix]\n",
        "#Calculate predcitions on best threshold\n",
        "preds = np.where(model.predict_proba(testX)[:,1] > THRESHOLD, 1, 0)\n",
        "\n",
        "pd.DataFrame(data=[accuracy_score(testy, preds), roc_auc_score(testy, preds)], index=[\"accuracy\", \"roc_auc_score\"])\n",
        "\n"
      ],
      "execution_count": null,
      "outputs": [
        {
          "output_type": "stream",
          "text": [
            "Threshold=0.314, F-Score=0.61841\n"
          ],
          "name": "stdout"
        },
        {
          "output_type": "execute_result",
          "data": {
            "text/html": [
              "<div>\n",
              "<style scoped>\n",
              "    .dataframe tbody tr th:only-of-type {\n",
              "        vertical-align: middle;\n",
              "    }\n",
              "\n",
              "    .dataframe tbody tr th {\n",
              "        vertical-align: top;\n",
              "    }\n",
              "\n",
              "    .dataframe thead th {\n",
              "        text-align: right;\n",
              "    }\n",
              "</style>\n",
              "<table border=\"1\" class=\"dataframe\">\n",
              "  <thead>\n",
              "    <tr style=\"text-align: right;\">\n",
              "      <th></th>\n",
              "      <th>0</th>\n",
              "    </tr>\n",
              "  </thead>\n",
              "  <tbody>\n",
              "    <tr>\n",
              "      <th>accuracy</th>\n",
              "      <td>0.760915</td>\n",
              "    </tr>\n",
              "    <tr>\n",
              "      <th>roc_auc_score</th>\n",
              "      <td>0.746971</td>\n",
              "    </tr>\n",
              "  </tbody>\n",
              "</table>\n",
              "</div>"
            ],
            "text/plain": [
              "                      0\n",
              "accuracy       0.760915\n",
              "roc_auc_score  0.746971"
            ]
          },
          "metadata": {
            "tags": []
          },
          "execution_count": 15
        }
      ]
    },
    {
      "cell_type": "code",
      "metadata": {
        "id": "XOcBLCeQW2h9",
        "colab": {
          "base_uri": "https://localhost:8080/",
          "height": 279
        },
        "outputId": "c4812de6-ad50-443a-b1b9-85ad2a3fb9ec"
      },
      "source": [
        "#plot the ROC\n",
        "from matplotlib import pyplot\n",
        "# calculate roc curves\n",
        "fpr, tpr, thresholds = roc_curve(testy, probs)\n",
        "# plot the roc curve for the model\n",
        "pyplot.plot([0,1], [0,1], linestyle='--', label='No Skill')\n",
        "pyplot.plot(fpr, tpr, marker='.', label='Random Forest')\n",
        "pyplot.scatter(fpr[ix], tpr[ix], marker='o', color='black', label='Best')\n",
        "# axis labels\n",
        "pyplot.xlabel('False Positive Rate')\n",
        "pyplot.ylabel('True Positive Rate')\n",
        "pyplot.legend()\n",
        "# show the plot\n",
        "pyplot.show()"
      ],
      "execution_count": null,
      "outputs": [
        {
          "output_type": "display_data",
          "data": {
            "image/png": "[encoded data removed]",
            "text/plain": [
              "<Figure size 432x288 with 1 Axes>"
            ]
          },
          "metadata": {
            "tags": [],
            "needs_background": "light"
          }
        }
      ]
    },
    {
      "cell_type": "code",
      "metadata": {
        "colab": {
          "base_uri": "https://localhost:8080/"
        },
        "id": "LGKCCiNlvunc",
        "outputId": "a5d63321-2fa6-4f78-80dd-0a9dd8bf409e"
      },
      "source": [
        "#classification report at best threshold\n",
        "print(classification_report(testy,preds))"
      ],
      "execution_count": null,
      "outputs": [
        {
          "output_type": "stream",
          "text": [
            "              precision    recall  f1-score   support\n",
            "\n",
            "           0       0.88      0.78      0.83     43068\n",
            "           1       0.54      0.72      0.62     15957\n",
            "\n",
            "    accuracy                           0.76     59025\n",
            "   macro avg       0.71      0.75      0.72     59025\n",
            "weighted avg       0.79      0.76      0.77     59025\n",
            "\n"
          ],
          "name": "stdout"
        }
      ]
    },
    {
      "cell_type": "markdown",
      "metadata": {
        "id": "uJXUobGVoK_n"
      },
      "source": [
        "# Using f1_macro scoring for Random Grid Search"
      ]
    },
    {
      "cell_type": "code",
      "metadata": {
        "colab": {
          "background_save": true,
          "base_uri": "https://localhost:8080/"
        },
        "id": "Z4DMP-OO5jyo",
        "outputId": "4053a6dd-d80f-4adf-be6a-db88caa45ab5"
      },
      "source": [
        "# Using fraction of the df: dfo carry out a randomized search cV\n",
        "# check code time\n",
        "time_start=time.perf_counter()\n",
        "# Use the random grid to search for best hyperparameters\n",
        "# Instantiate the Random Forest Classifier\n",
        "rf = RandomForestClassifier()\n",
        "# Random search of parameters, using 3 fold cross validation, \n",
        "# search across 100 different combinations, and use all available cores\n",
        "rf_random = RandomizedSearchCV(estimator = rf, param_distributions = random_grid, n_iter = 100, cv = 3, verbose=2, random_state=42, n_jobs = -1,scoring='f1_macro')\n",
        "# Fit the random search model\n",
        "rf_random.fit(X_train, y_train)\n",
        "time_end=time.perf_counter()\n",
        "print((time_end-time_start)/60)"
      ],
      "execution_count": null,
      "outputs": [
        {
          "output_type": "stream",
          "text": [
            "Fitting 3 folds for each of 100 candidates, totalling 300 fits\n"
          ],
          "name": "stdout"
        },
        {
          "output_type": "stream",
          "text": [
            "[Parallel(n_jobs=-1)]: Using backend LokyBackend with 2 concurrent workers.\n",
            "[Parallel(n_jobs=-1)]: Done  37 tasks      | elapsed:  1.6min\n",
            "[Parallel(n_jobs=-1)]: Done 158 tasks      | elapsed:  6.3min\n",
            "[Parallel(n_jobs=-1)]: Done 300 out of 300 | elapsed: 11.2min finished\n"
          ],
          "name": "stderr"
        },
        {
          "output_type": "stream",
          "text": [
            "11.303505300516667\n"
          ],
          "name": "stdout"
        }
      ]
    },
    {
      "cell_type": "code",
      "metadata": {
        "colab": {
          "base_uri": "https://localhost:8080/"
        },
        "id": "rUGo7meL5v0H",
        "outputId": "45e36982-3003-4bf6-900c-77f3538ff58e"
      },
      "source": [
        "#look at best parameters\n",
        "rf_random.best_params_"
      ],
      "execution_count": null,
      "outputs": [
        {
          "output_type": "execute_result",
          "data": {
            "text/plain": [
              "{'bootstrap': False,\n",
              " 'max_depth': None,\n",
              " 'max_features': 'auto',\n",
              " 'min_samples_leaf': 1,\n",
              " 'min_samples_split': 10,\n",
              " 'n_estimators': 100}"
            ]
          },
          "metadata": {
            "tags": []
          },
          "execution_count": 27
        }
      ]
    },
    {
      "cell_type": "markdown",
      "metadata": {
        "id": "VDQ8dL6C3nC7"
      },
      "source": [
        "# Modeling Random Forest after picking best parameters (scoring=f1)"
      ]
    },
    {
      "cell_type": "code",
      "metadata": {
        "id": "HCX4Pm-k50L4"
      },
      "source": [
        "# Apply best parameters from Random Search to Random Forest Classifier model on the entire dataset df"
      ],
      "execution_count": null,
      "outputs": []
    },
    {
      "cell_type": "code",
      "metadata": {
        "id": "KNysxHiW9P-K"
      },
      "source": [
        "# load the dataset\n",
        "df=pd.read_csv('/content/sample_data/nysdoh_feature.csv')\n",
        "# remove unwanted columns\n",
        "df=df.drop(['Unnamed: 0','MeanLOS_byD', 'MeanLOS_byP'],axis=1)"
      ],
      "execution_count": null,
      "outputs": []
    },
    {
      "cell_type": "code",
      "metadata": {
        "colab": {
          "base_uri": "https://localhost:8080/"
        },
        "id": "eVsbpKIn89mu",
        "outputId": "5ccfe045-5a8e-42fb-cd4b-377791b37417"
      },
      "source": [
        "# Note dataset column names\n",
        "df.columns"
      ],
      "execution_count": null,
      "outputs": [
        {
          "output_type": "execute_result",
          "data": {
            "text/plain": [
              "Index(['Hospital_Service_Area', 'Hospital_County', 'Facility_Name',\n",
              "       'Age_Group', 'Zip_Code__3_digits', 'Gender', 'Race', 'Length_of_Stay',\n",
              "       'Type_of_Admission', 'CCS_Diagnosis_Description',\n",
              "       'CCS_Procedure_Description', 'Payment_Typology_1',\n",
              "       'Emergency_Department_Indicator', 'Below_Above_mean', 'length_groups'],\n",
              "      dtype='object')"
            ]
          },
          "metadata": {
            "tags": []
          },
          "execution_count": 20
        }
      ]
    },
    {
      "cell_type": "code",
      "metadata": {
        "colab": {
          "base_uri": "https://localhost:8080/"
        },
        "id": "6fiv74xUR0EB",
        "outputId": "e3804f14-9a2c-455d-c4de-69f395097d3e"
      },
      "source": [
        "#check dataset shape\n",
        "df.shape"
      ],
      "execution_count": null,
      "outputs": [
        {
          "output_type": "execute_result",
          "data": {
            "text/plain": [
              "(118049, 15)"
            ]
          },
          "metadata": {
            "tags": []
          },
          "execution_count": 21
        }
      ]
    },
    {
      "cell_type": "code",
      "metadata": {
        "id": "emsODROBSVLC"
      },
      "source": [
        "\n",
        "# Target column is Below_Above_mean which has two classes. Map the classes and assign class of interest: above_mean to 1\n",
        "Binary = {'above_mean': 1, 'below_mean': 0}\n",
        "\n",
        "df['Below_Above_mean'] = df['Below_Above_mean'].map(Binary)\n",
        "# assign X\n",
        "X=df.drop(['Length_of_Stay',\n",
        "        'Below_Above_mean', 'length_groups'\n",
        "       ],axis=1)\n",
        "# assign dummy varaibales to categorical data\n",
        "X=pd.get_dummies(X,drop_first=True)\n",
        "y=df['Below_Above_mean']\n",
        "#split train test data\n",
        "X_train,X_test,y_train,y_test=train_test_split(X,y,test_size=0.2,random_state=1)\n",
        "\n",
        "\n"
      ],
      "execution_count": null,
      "outputs": []
    },
    {
      "cell_type": "code",
      "metadata": {
        "colab": {
          "base_uri": "https://localhost:8080/"
        },
        "id": "j8jJpz_Q7WK6",
        "outputId": "e0ae91f5-fd4e-40db-b5d8-143971d16f0a"
      },
      "source": [
        "# time the code, fit the random forest classifier with best params\n",
        "time_start=time.perf_counter()\n",
        "model = RandomForestClassifier(bootstrap= False,\n",
        " max_depth= None,\n",
        " max_features= 'auto',\n",
        " min_samples_leaf= 1,\n",
        " min_samples_split= 10,\n",
        " n_estimators= 100)\n",
        "model.fit(X_train,y_train)\n",
        "y_pred = model.predict(X_test)\n",
        "time_end=time.perf_counter()\n",
        "print((time_end-time_start)/60)"
      ],
      "execution_count": null,
      "outputs": [
        {
          "output_type": "stream",
          "text": [
            "3.7908741336500005\n"
          ],
          "name": "stdout"
        }
      ]
    },
    {
      "cell_type": "code",
      "metadata": {
        "id": "YqttgGKqYc8w"
      },
      "source": [
        "#predict probabilities\n",
        "yhat=model.predict_proba(X_test)"
      ],
      "execution_count": null,
      "outputs": []
    },
    {
      "cell_type": "code",
      "metadata": {
        "id": "jRCsRbUZYVbP",
        "colab": {
          "base_uri": "https://localhost:8080/",
          "height": 128
        },
        "outputId": "fd83726a-92d0-406b-f913-eb6984a941f1"
      },
      "source": [
        "# Best threshold based on f1 score for positive class\n",
        "# apply threshold to positive probabilities to create labels\n",
        "def to_labels(pos_probs, threshold):\n",
        "\treturn (pos_probs >= threshold).astype('int')\n",
        " \n",
        "# keep probabilities for the positive outcome only\n",
        "probs = yhat[:, 1]\n",
        "# define thresholds\n",
        "thresholds = np.arange(0, 1, 0.001)\n",
        "# evaluate each threshold\n",
        "scores = [f1_score(y_test, to_labels(probs, t)) for t in thresholds]\n",
        "# get best threshold\n",
        "ix = np.argmax(scores)\n",
        "print('Threshold=%.3f, F-Score=%.5f' % (thresholds[ix], scores[ix]))\n",
        "# Best threshold for f1 score: THRESHOLD\n",
        "THRESHOLD=thresholds[ix]\n",
        "#Calculate predcitions on best threshold\n",
        "preds = np.where(model.predict_proba(X_test)[:,1] > THRESHOLD, 1, 0)\n",
        "\n",
        "pd.DataFrame(data=[accuracy_score(y_test, preds), roc_auc_score(y_test, preds)], index=[\"accuracy\", \"roc_auc_score\"])"
      ],
      "execution_count": null,
      "outputs": [
        {
          "output_type": "stream",
          "text": [
            "Threshold=0.283, F-Score=0.61731\n"
          ],
          "name": "stdout"
        },
        {
          "output_type": "execute_result",
          "data": {
            "text/html": [
              "<div>\n",
              "<style scoped>\n",
              "    .dataframe tbody tr th:only-of-type {\n",
              "        vertical-align: middle;\n",
              "    }\n",
              "\n",
              "    .dataframe tbody tr th {\n",
              "        vertical-align: top;\n",
              "    }\n",
              "\n",
              "    .dataframe thead th {\n",
              "        text-align: right;\n",
              "    }\n",
              "</style>\n",
              "<table border=\"1\" class=\"dataframe\">\n",
              "  <thead>\n",
              "    <tr style=\"text-align: right;\">\n",
              "      <th></th>\n",
              "      <th>0</th>\n",
              "    </tr>\n",
              "  </thead>\n",
              "  <tbody>\n",
              "    <tr>\n",
              "      <th>accuracy</th>\n",
              "      <td>0.756756</td>\n",
              "    </tr>\n",
              "    <tr>\n",
              "      <th>roc_auc_score</th>\n",
              "      <td>0.751752</td>\n",
              "    </tr>\n",
              "  </tbody>\n",
              "</table>\n",
              "</div>"
            ],
            "text/plain": [
              "                      0\n",
              "accuracy       0.756756\n",
              "roc_auc_score  0.751752"
            ]
          },
          "metadata": {
            "tags": []
          },
          "execution_count": 25
        }
      ]
    },
    {
      "cell_type": "code",
      "metadata": {
        "colab": {
          "base_uri": "https://localhost:8080/"
        },
        "id": "0ohXSy2exxHa",
        "outputId": "db6b32a1-bc8b-4e12-adb9-a8ca269553d4"
      },
      "source": [
        "print(classification_report(y_test,preds))"
      ],
      "execution_count": null,
      "outputs": [
        {
          "output_type": "stream",
          "text": [
            "              precision    recall  f1-score   support\n",
            "\n",
            "           0       0.89      0.76      0.82     17360\n",
            "           1       0.53      0.74      0.62      6250\n",
            "\n",
            "    accuracy                           0.76     23610\n",
            "   macro avg       0.71      0.75      0.72     23610\n",
            "weighted avg       0.80      0.76      0.77     23610\n",
            "\n"
          ],
          "name": "stdout"
        }
      ]
    },
    {
      "cell_type": "code",
      "metadata": {
        "colab": {
          "base_uri": "https://localhost:8080/",
          "height": 279
        },
        "id": "IRLpr97jaIFE",
        "outputId": "39053b9f-f917-4836-9e2d-e29f51902a65"
      },
      "source": [
        "#plot the ROC\n",
        "from matplotlib import pyplot\n",
        "# calculate roc curves\n",
        "fpr, tpr, thresholds = roc_curve(y_test, probs)\n",
        "# plot the roc curve for the model\n",
        "pyplot.plot([0,1], [0,1], linestyle='--', label='No Skill')\n",
        "pyplot.plot(fpr, tpr, marker='.', label='Random Forest')\n",
        "pyplot.scatter(fpr[ix], tpr[ix], marker='o', color='black', label='Best')\n",
        "# axis labels\n",
        "pyplot.xlabel('False Positive Rate')\n",
        "pyplot.ylabel('True Positive Rate')\n",
        "pyplot.legend()\n",
        "# show the plot\n",
        "pyplot.show()"
      ],
      "execution_count": null,
      "outputs": [
        {
          "output_type": "display_data",
          "data": {
            "image/png": "[encoded data removed]",
            "text/plain": [
              "<Figure size 432x288 with 1 Axes>"
            ]
          },
          "metadata": {
            "tags": [],
            "needs_background": "light"
          }
        }
      ]
    },
    {
      "cell_type": "code",
      "metadata": {
        "colab": {
          "base_uri": "https://localhost:8080/",
          "height": 638
        },
        "id": "Y1NA6yJA7uj8",
        "outputId": "f7208616-6c26-475d-f2b4-928cca367dd5"
      },
      "source": [
        "# Look at feature importance based on the random forest classifier\n",
        "feature_importance = model.feature_importances_\n",
        "# make importances relative to max importance\n",
        "feature_importance = 100.0 * (feature_importance / feature_importance.max())[:30]\n",
        "sorted_idx = np.argsort(feature_importance)[:30]\n",
        "\n",
        "pos = np.arange(sorted_idx.shape[0]) + .5\n",
        "print(pos.size)\n",
        "sorted_idx.size\n",
        "plt.figure(figsize=(10,10))\n",
        "plt.barh(pos, feature_importance[sorted_idx], align='center')\n",
        "plt.yticks(pos, X.columns[sorted_idx])\n",
        "plt.xlabel('Relative Importance')\n",
        "plt.title('Variable Importance')\n",
        "plt.savefig('dfv1.png',bbox_inches='tight')\n",
        "plt.show()\n",
        "files.download('dfv1.png')"
      ],
      "execution_count": null,
      "outputs": [
        {
          "output_type": "stream",
          "text": [
            "30\n"
          ],
          "name": "stdout"
        },
        {
          "output_type": "display_data",
          "data": {
            "image/png": "[encoded data removed]",
            "text/plain": [
              "<Figure size 720x720 with 1 Axes>"
            ]
          },
          "metadata": {
            "tags": [],
            "needs_background": "light"
          }
        },
        {
          "output_type": "display_data",
          "data": {
            "application/javascript": [
              "\n",
              "    async function download(id, filename, size) {\n",
              "      if (!google.colab.kernel.accessAllowed) {\n",
              "        return;\n",
              "      }\n",
              "      const div = document.createElement('div');\n",
              "      const label = document.createElement('label');\n",
              "      label.textContent = `Downloading \"${filename}\": `;\n",
              "      div.appendChild(label);\n",
              "      const progress = document.createElement('progress');\n",
              "      progress.max = size;\n",
              "      div.appendChild(progress);\n",
              "      document.body.appendChild(div);\n",
              "\n",
              "      const buffers = [];\n",
              "      let downloaded = 0;\n",
              "\n",
              "      const channel = await google.colab.kernel.comms.open(id);\n",
              "      // Send a message to notify the kernel that we're ready.\n",
              "      channel.send({})\n",
              "\n",
              "      for await (const message of channel.messages) {\n",
              "        // Send a message to notify the kernel that we're ready.\n",
              "        channel.send({})\n",
              "        if (message.buffers) {\n",
              "          for (const buffer of message.buffers) {\n",
              "            buffers.push(buffer);\n",
              "            downloaded += buffer.byteLength;\n",
              "            progress.value = downloaded;\n",
              "          }\n",
              "        }\n",
              "      }\n",
              "      const blob = new Blob(buffers, {type: 'application/binary'});\n",
              "      const a = document.createElement('a');\n",
              "      a.href = window.URL.createObjectURL(blob);\n",
              "      a.download = filename;\n",
              "      div.appendChild(a);\n",
              "      a.click();\n",
              "      div.remove();\n",
              "    }\n",
              "  "
            ],
            "text/plain": [
              "<IPython.core.display.Javascript object>"
            ]
          },
          "metadata": {
            "tags": []
          }
        },
        {
          "output_type": "display_data",
          "data": {
            "application/javascript": [
              "download(\"download_04d4bab3-3ef2-439a-901e-21e177bdda11\", \"dfv1.png\", 68575)"
            ],
            "text/plain": [
              "<IPython.core.display.Javascript object>"
            ]
          },
          "metadata": {
            "tags": []
          }
        }
      ]
    },
    {
      "cell_type": "markdown",
      "metadata": {
        "id": "nTjOcHnh_YF8"
      },
      "source": [
        " Interestingly, the NY City hospital service area has the highest feature importance, followed by certain counties. "
      ]
    },
    {
      "cell_type": "markdown",
      "metadata": {
        "id": "kO-RdO9Dg6OT"
      },
      "source": [
        "# Look at features after removing geogrpaphical and location factors (hospital service area, county, facility name, and zip code)."
      ]
    },
    {
      "cell_type": "code",
      "metadata": {
        "id": "X97vPv4DlmwQ"
      },
      "source": [
        "# Assign new X by removing location columns from X\n",
        "X=df.drop(['Hospital_Service_Area', 'Hospital_County','Facility_Name',\n",
        "       'Zip_Code__3_digits','Length_of_Stay',\n",
        "        'Below_Above_mean', 'length_groups'],axis=1)\n",
        "X=pd.get_dummies(X,drop_first=True)\n"
      ],
      "execution_count": null,
      "outputs": []
    },
    {
      "cell_type": "code",
      "metadata": {
        "id": "TcoV2QK_lq6N"
      },
      "source": [
        "# create a train test split with new X, y is the same\n",
        "X_train,X_test,y_train,y_test=train_test_split(X,y,test_size=0.2,random_state=1)"
      ],
      "execution_count": null,
      "outputs": []
    },
    {
      "cell_type": "code",
      "metadata": {
        "id": "rHPFc0qBluGm"
      },
      "source": [
        "# run the random forest classifier using best parameters, time the code\n",
        "time_start=time.perf_counter()\n",
        "model = RandomForestClassifier(bootstrap= False,\n",
        " max_depth= None,\n",
        " max_features= 'auto',\n",
        " min_samples_leaf= 1,\n",
        " min_samples_split= 10,\n",
        " n_estimators= 100)\n",
        "model.fit(X_train,y_train)\n",
        "y_pred = model.predict(X_test)\n",
        "time_end=time.perf_counter()"
      ],
      "execution_count": null,
      "outputs": []
    },
    {
      "cell_type": "code",
      "metadata": {
        "colab": {
          "base_uri": "https://localhost:8080/"
        },
        "id": "ZTEYf-pJUJJ5",
        "outputId": "e93d8923-b7e1-4be7-c084-0fdd942991a6"
      },
      "source": [
        "# print time needed\n",
        "print((time_end-time_start)/60)"
      ],
      "execution_count": null,
      "outputs": [
        {
          "output_type": "stream",
          "text": [
            "2.28893908893333\n"
          ],
          "name": "stdout"
        }
      ]
    },
    {
      "cell_type": "code",
      "metadata": {
        "colab": {
          "base_uri": "https://localhost:8080/",
          "height": 128
        },
        "id": "0HGJ-B2famRq",
        "outputId": "f9644811-8a51-4846-9d02-366cedaa5fff"
      },
      "source": [
        "# Best threshold based on f1 score for positive class\n",
        "# apply threshold to positive probabilities to create labels\n",
        "def to_labels(pos_probs, threshold):\n",
        "\treturn (pos_probs >= threshold).astype('int')\n",
        " \n",
        "# keep probabilities for the positive outcome only\n",
        "probs = yhat[:, 1]\n",
        "# define thresholds\n",
        "thresholds = np.arange(0, 1, 0.001)\n",
        "# evaluate each threshold\n",
        "scores = [f1_score(y_test, to_labels(probs, t)) for t in thresholds]\n",
        "# get best threshold\n",
        "ix = np.argmax(scores)\n",
        "print('Threshold=%.3f, F-Score=%.5f' % (thresholds[ix], scores[ix]))\n",
        "# Best threshold for f1 score: THRESHOLD\n",
        "THRESHOLD=thresholds[ix]\n",
        "#Calculate predcitions on best threshold\n",
        "preds = np.where(model.predict_proba(X_test)[:,1] > THRESHOLD, 1, 0)\n",
        "\n",
        "pd.DataFrame(data=[accuracy_score(y_test, preds), roc_auc_score(y_test, preds)], index=[\"accuracy\", \"roc_auc_score\"])"
      ],
      "execution_count": null,
      "outputs": [
        {
          "output_type": "stream",
          "text": [
            "Threshold=0.283, F-Score=0.61731\n"
          ],
          "name": "stdout"
        },
        {
          "output_type": "execute_result",
          "data": {
            "text/html": [
              "<div>\n",
              "<style scoped>\n",
              "    .dataframe tbody tr th:only-of-type {\n",
              "        vertical-align: middle;\n",
              "    }\n",
              "\n",
              "    .dataframe tbody tr th {\n",
              "        vertical-align: top;\n",
              "    }\n",
              "\n",
              "    .dataframe thead th {\n",
              "        text-align: right;\n",
              "    }\n",
              "</style>\n",
              "<table border=\"1\" class=\"dataframe\">\n",
              "  <thead>\n",
              "    <tr style=\"text-align: right;\">\n",
              "      <th></th>\n",
              "      <th>0</th>\n",
              "    </tr>\n",
              "  </thead>\n",
              "  <tbody>\n",
              "    <tr>\n",
              "      <th>accuracy</th>\n",
              "      <td>0.738501</td>\n",
              "    </tr>\n",
              "    <tr>\n",
              "      <th>roc_auc_score</th>\n",
              "      <td>0.732529</td>\n",
              "    </tr>\n",
              "  </tbody>\n",
              "</table>\n",
              "</div>"
            ],
            "text/plain": [
              "                      0\n",
              "accuracy       0.738501\n",
              "roc_auc_score  0.732529"
            ]
          },
          "metadata": {
            "tags": []
          },
          "execution_count": 34
        }
      ]
    },
    {
      "cell_type": "code",
      "metadata": {
        "colab": {
          "base_uri": "https://localhost:8080/"
        },
        "id": "5b-c0nT70iLt",
        "outputId": "5223c4ae-5615-4db2-cae2-98ad77501435"
      },
      "source": [
        "# Clasification report at best threshold\n",
        "print(classification_report(y_test,preds))"
      ],
      "execution_count": null,
      "outputs": [
        {
          "output_type": "stream",
          "text": [
            "              precision    recall  f1-score   support\n",
            "\n",
            "           0       0.88      0.75      0.81     17360\n",
            "           1       0.50      0.72      0.59      6250\n",
            "\n",
            "    accuracy                           0.74     23610\n",
            "   macro avg       0.69      0.73      0.70     23610\n",
            "weighted avg       0.78      0.74      0.75     23610\n",
            "\n"
          ],
          "name": "stdout"
        }
      ]
    },
    {
      "cell_type": "code",
      "metadata": {
        "id": "H0NAS4jjYwwK"
      },
      "source": [
        "# when comparing f1 scores of class 1 models that include location columns in X versus exclude the location in X , the AUC score, f1 scores and accuracy drop slightly"
      ],
      "execution_count": null,
      "outputs": []
    },
    {
      "cell_type": "code",
      "metadata": {
        "colab": {
          "base_uri": "https://localhost:8080/",
          "height": 638
        },
        "id": "xcuQACDwoOkp",
        "outputId": "5f45cac4-4664-4163-e219-9b8ec0bb9a1f"
      },
      "source": [
        "# Look at feature importance based on the random forest classifier\n",
        "feature_importance = model.feature_importances_\n",
        "# make importances relative to max importance\n",
        "feature_importance = 100.0 * (feature_importance / feature_importance.max())[:30]\n",
        "sorted_idx = np.argsort(feature_importance)[:30]\n",
        "\n",
        "pos = np.arange(sorted_idx.shape[0]) + .5\n",
        "print(pos.size)\n",
        "sorted_idx.size\n",
        "plt.figure(figsize=(10,10))\n",
        "plt.barh(pos, feature_importance[sorted_idx], align='center')\n",
        "plt.yticks(pos, X.columns[sorted_idx])\n",
        "plt.xlabel('Relative Importance')\n",
        "plt.title('Variable Importance')\n",
        "#plt.savefig('dfv2.png')\n",
        "plt.show()\n",
        "#files.download('dfv2.png')"
      ],
      "execution_count": null,
      "outputs": [
        {
          "output_type": "stream",
          "text": [
            "30\n"
          ],
          "name": "stdout"
        },
        {
          "output_type": "display_data",
          "data": {
            "image/png": "[encoded data removed]",
            "text/plain": [
              "<Figure size 720x720 with 1 Axes>"
            ]
          },
          "metadata": {
            "tags": [],
            "needs_background": "light"
          }
        }
      ]
    },
    {
      "cell_type": "markdown",
      "metadata": {
        "id": "XbkdTMyl32G0"
      },
      "source": [
        "# Randomized Grid Search: find best parameters for Logistic Regression classifier, scoring on 'roc_auc' score"
      ]
    },
    {
      "cell_type": "code",
      "metadata": {
        "id": "UqMxe0ME6ysN"
      },
      "source": [
        "filepath='/content/sample_data/nysdoh_feature.csv'\n",
        "# take a sample of dfo for purposes of random search cv to get best params while improving efficiency by not doing on the bigger dfo dataset\n",
        "chunk_size=50000\n",
        "df1=pd.DataFrame()\n",
        "for chunk in pd.read_csv(filepath,chunksize=chunk_size,low_memory=False):\n",
        "    df2=chunk.sample(frac=0.05)\n",
        "    df=pd.concat([df1, df2])\n",
        "    df1=df\n",
        "# drop unwanted columns\n",
        "df1=df1.drop(['Unnamed: 0','MeanLOS_byD', 'MeanLOS_byP'],axis=1)\n",
        "#Determine columns for X\n",
        "X=df1.drop(['Length_of_Stay',\n",
        "        'Below_Above_mean', 'length_groups'\n",
        "       ],axis=1)\n",
        "# Due to categorical data, covert X column features to dummy variables to prepare for modelling\n",
        "X=pd.get_dummies(X,drop_first=True)\n",
        "# Target column is Below_Above_mean which has two classes. Map the classes and assign class of interest: above_mean to 1\n",
        "Binary = {'above_mean': 1, 'below_mean': 0}\n",
        "df1['Below_Above_mean'] = df1['Below_Above_mean'].map(Binary)\n",
        "# conisder y variable as binary length groups\n",
        "y=df1['Below_Above_mean']\n",
        "# Complete a train test split\n",
        "X_train,X_test,y_train,y_test=train_test_split(X,y,test_size=0.2,random_state=1)"
      ],
      "execution_count": null,
      "outputs": []
    },
    {
      "cell_type": "code",
      "metadata": {
        "id": "vPQ-lbGt36n6"
      },
      "source": [
        "# create a grid for the random search\n",
        "random_grid={\"C\":np.logspace(-3,3,7), \"penalty\":[\"l2\"],\"max_iter\":(500,1000)}"
      ],
      "execution_count": null,
      "outputs": []
    },
    {
      "cell_type": "code",
      "metadata": {
        "id": "1mDxd_4N7qSh"
      },
      "source": [
        "logreg=LogisticRegression()\n",
        "logreg_rv=RandomizedSearchCV(logreg,random_grid,cv=3,scoring='roc_auc')\n",
        "time_start=time.perf_counter()\n",
        "logreg_rv.fit(X_train,y_train)\n",
        "time_end=time.perf_counter()\n",
        "print((time_end-time_start)/60)"
      ],
      "execution_count": null,
      "outputs": []
    },
    {
      "cell_type": "code",
      "metadata": {
        "colab": {
          "base_uri": "https://localhost:8080/"
        },
        "id": "a77FrAjw8f74",
        "outputId": "025daadb-ead7-4286-c3f4-535bfea1ace8"
      },
      "source": [
        "print(\"tuned hpyerparameters :(best parameters) \",logreg_rv.best_params_)\n",
        "print(\"accuracy :\",logreg_rv.best_score_)"
      ],
      "execution_count": null,
      "outputs": [
        {
          "output_type": "stream",
          "text": [
            "tuned hpyerparameters :(best parameters)  {'penalty': 'l2', 'max_iter': 500, 'C': 1.0}\n",
            "accuracy : 0.8007010008228049\n"
          ],
          "name": "stdout"
        }
      ]
    },
    {
      "cell_type": "markdown",
      "metadata": {
        "id": "YXQyPaX9bNC1"
      },
      "source": [
        "## Apply best parameters to Logistic Regression before feature selection"
      ]
    },
    {
      "cell_type": "code",
      "metadata": {
        "id": "wRcjT5lkVGya"
      },
      "source": [
        "df=pd.read_csv('/content/sample_data/nysdoh_feature.csv')\n",
        "# remove unwanted columns\n",
        "df=df.drop(['Unnamed: 0','MeanLOS_byD', 'MeanLOS_byP'],axis=1)\n",
        "# Target column is Below_Above_mean which has two classes. Map the classes and assign class of interest: above_mean to 1\n",
        "Binary = {'above_mean': 1, 'below_mean': 0}\n",
        "\n",
        "df['Below_Above_mean'] = df['Below_Above_mean'].map(Binary)\n",
        "# assign X\n",
        "X=df.drop(['Length_of_Stay',\n",
        "        'Below_Above_mean', 'length_groups'\n",
        "       ],axis=1)\n",
        "# assign dummy varaibales to categorical data\n",
        "X=pd.get_dummies(X,drop_first=True)\n",
        "y=df['Below_Above_mean']\n",
        "#split train test data\n",
        "X_train,X_test,y_train,y_test=train_test_split(X,y,test_size=0.2,random_state=1)"
      ],
      "execution_count": null,
      "outputs": []
    },
    {
      "cell_type": "code",
      "metadata": {
        "colab": {
          "base_uri": "https://localhost:8080/"
        },
        "id": "U1n8IA2oVO0K",
        "outputId": "6b25a617-b4e7-4a23-ba4a-7169885f64ff"
      },
      "source": [
        "# class 0: 17360,class 1: 6250\n",
        "# class0/class 1 ratio = 2.8\n",
        "print(17360/6250)"
      ],
      "execution_count": null,
      "outputs": [
        {
          "output_type": "stream",
          "text": [
            "2.7776\n"
          ],
          "name": "stdout"
        }
      ]
    },
    {
      "cell_type": "code",
      "metadata": {
        "id": "v2uNrufWVm1r"
      },
      "source": [
        "#inverse the weights for the classes and assign weights\n",
        "w={0:1,1:2.8}"
      ],
      "execution_count": null,
      "outputs": []
    },
    {
      "cell_type": "code",
      "metadata": {
        "id": "6yB_9oX1eOq3"
      },
      "source": [
        "#weighted Logistic Regression \n",
        "model = LogisticRegression(penalty='l2',C=1.0,max_iter=500,fit_intercept=False,class_weight=w)"
      ],
      "execution_count": null,
      "outputs": []
    },
    {
      "cell_type": "code",
      "metadata": {
        "id": "0VudzlG6gEq7"
      },
      "source": [
        "# execute fit\n",
        "model.fit(X_train,y_train)\n"
      ],
      "execution_count": null,
      "outputs": []
    },
    {
      "cell_type": "code",
      "metadata": {
        "id": "PLf5BNobXlCD"
      },
      "source": [
        "# predict probabilities\n",
        "yhat = model.predict_proba(X_test)"
      ],
      "execution_count": null,
      "outputs": []
    },
    {
      "cell_type": "code",
      "metadata": {
        "colab": {
          "base_uri": "https://localhost:8080/"
        },
        "id": "XmifPX9vWlas",
        "outputId": "3134b86b-4e85-4f71-c3ab-0e244f4d439a"
      },
      "source": [
        "# Best threshold based on f1 score for positive class\n",
        "# apply threshold to positive probabilities to create labels\n",
        "def to_labels(pos_probs, threshold):\n",
        "\treturn (pos_probs >= threshold).astype('int')\n",
        " \n",
        "# keep probabilities for the positive outcome only\n",
        "probs = yhat[:, 1]\n",
        "# define thresholds\n",
        "thresholds = np.arange(0, 1, 0.001)\n",
        "# evaluate each threshold\n",
        "scores = [f1_score(y_test, to_labels(probs, t)) for t in thresholds]\n",
        "# get best threshold\n",
        "ix = np.argmax(scores)\n",
        "print('Threshold=%.3f, F-Score=%.5f' % (thresholds[ix], scores[ix]))\n"
      ],
      "execution_count": null,
      "outputs": [
        {
          "output_type": "stream",
          "text": [
            "Threshold=0.524, F-Score=0.61666\n"
          ],
          "name": "stdout"
        }
      ]
    },
    {
      "cell_type": "code",
      "metadata": {
        "colab": {
          "base_uri": "https://localhost:8080/"
        },
        "id": "pr4ai3O9YcnE",
        "outputId": "c086215b-b625-4c6b-f6ce-f9e119aa243c"
      },
      "source": [
        "# Best threshold for f1 score: THRESHOLD\n",
        "THRESHOLD=thresholds[ix]\n",
        "print(THRESHOLD)"
      ],
      "execution_count": null,
      "outputs": [
        {
          "output_type": "stream",
          "text": [
            "0.524\n"
          ],
          "name": "stdout"
        }
      ]
    },
    {
      "cell_type": "code",
      "metadata": {
        "colab": {
          "base_uri": "https://localhost:8080/",
          "height": 111
        },
        "id": "tRzzu9-2YRJh",
        "outputId": "c4d61960-fcd5-4cd6-8dc5-886e0977f74b"
      },
      "source": [
        "#Calculate predcitions on best threshold\n",
        "preds = np.where(model.predict_proba(X_test)[:,1] > THRESHOLD, 1, 0)\n",
        "\n",
        "pd.DataFrame(data=[accuracy_score(y_test, preds), roc_auc_score(y_test, preds)], index=[\"accuracy\", \"roc_auc_score\"])"
      ],
      "execution_count": null,
      "outputs": [
        {
          "output_type": "execute_result",
          "data": {
            "text/html": [
              "<div>\n",
              "<style scoped>\n",
              "    .dataframe tbody tr th:only-of-type {\n",
              "        vertical-align: middle;\n",
              "    }\n",
              "\n",
              "    .dataframe tbody tr th {\n",
              "        vertical-align: top;\n",
              "    }\n",
              "\n",
              "    .dataframe thead th {\n",
              "        text-align: right;\n",
              "    }\n",
              "</style>\n",
              "<table border=\"1\" class=\"dataframe\">\n",
              "  <thead>\n",
              "    <tr style=\"text-align: right;\">\n",
              "      <th></th>\n",
              "      <th>0</th>\n",
              "    </tr>\n",
              "  </thead>\n",
              "  <tbody>\n",
              "    <tr>\n",
              "      <th>accuracy</th>\n",
              "      <td>0.755612</td>\n",
              "    </tr>\n",
              "    <tr>\n",
              "      <th>roc_auc_score</th>\n",
              "      <td>0.751436</td>\n",
              "    </tr>\n",
              "  </tbody>\n",
              "</table>\n",
              "</div>"
            ],
            "text/plain": [
              "                      0\n",
              "accuracy       0.755612\n",
              "roc_auc_score  0.751436"
            ]
          },
          "metadata": {
            "tags": []
          },
          "execution_count": 45
        }
      ]
    },
    {
      "cell_type": "code",
      "metadata": {
        "colab": {
          "base_uri": "https://localhost:8080/",
          "height": 279
        },
        "id": "9r4t2MJ7Xe1Q",
        "outputId": "b4023093-d794-415a-f0bd-4243b07c0217"
      },
      "source": [
        "\n",
        "#plot the ROC\n",
        "from matplotlib import pyplot\n",
        "# calculate roc curves\n",
        "fpr, tpr, thresholds = roc_curve(y_test, probs)\n",
        "# plot the roc curve for the model\n",
        "pyplot.plot([0,1], [0,1], linestyle='--', label='No Skill')\n",
        "pyplot.plot(fpr, tpr, marker='.', label='Random Forest')\n",
        "pyplot.scatter(fpr[ix], tpr[ix], marker='o', color='black', label='Best')\n",
        "# axis labels\n",
        "pyplot.xlabel('False Positive Rate')\n",
        "pyplot.ylabel('True Positive Rate')\n",
        "pyplot.legend()\n",
        "# show the plot\n",
        "pyplot.show()"
      ],
      "execution_count": null,
      "outputs": [
        {
          "output_type": "display_data",
          "data": {
            "image/png": "[encoded data removed]",
            "text/plain": [
              "<Figure size 432x288 with 1 Axes>"
            ]
          },
          "metadata": {
            "tags": [],
            "needs_background": "light"
          }
        }
      ]
    },
    {
      "cell_type": "code",
      "metadata": {
        "colab": {
          "base_uri": "https://localhost:8080/"
        },
        "id": "XDeUT_yeaVb-",
        "outputId": "4863b48d-da9d-4a58-8cdd-bc14b680c7f7"
      },
      "source": [
        "# classification report at best threshold\n",
        "print(classification_report(y_test,preds))"
      ],
      "execution_count": null,
      "outputs": [
        {
          "output_type": "stream",
          "text": [
            "              precision    recall  f1-score   support\n",
            "\n",
            "           0       0.89      0.76      0.82     17360\n",
            "           1       0.53      0.74      0.62      6250\n",
            "\n",
            "    accuracy                           0.76     23610\n",
            "   macro avg       0.71      0.75      0.72     23610\n",
            "weighted avg       0.79      0.76      0.77     23610\n",
            "\n"
          ],
          "name": "stdout"
        }
      ]
    },
    {
      "cell_type": "markdown",
      "metadata": {
        "id": "0Ph0fwNTcadb"
      },
      "source": [
        "# Apply best parameters to Logistic Regression Classifier after feature selection"
      ]
    },
    {
      "cell_type": "code",
      "metadata": {
        "id": "gG6G4GjJuMhK"
      },
      "source": [
        "# example of chi squared feature selection for categorical data\n",
        "from pandas import read_csv\n",
        "from sklearn.model_selection import train_test_split\n",
        "from sklearn.preprocessing import LabelEncoder\n",
        "from sklearn.preprocessing import OrdinalEncoder\n",
        "from sklearn.feature_selection import SelectKBest\n",
        "from sklearn.feature_selection import chi2\n",
        "from matplotlib import pyplot\n",
        " \n",
        " \n",
        "# feature selection\n",
        "def select_features(X_train, y_train, X_test):\n",
        "\tfs = SelectKBest(score_func=chi2, k='all')\n",
        "\tfs.fit(X_train, y_train)\n",
        "\tX_train_fs = fs.transform(X_train)\n",
        "\tX_test_fs = fs.transform(X_test)\n",
        "\treturn X_train_fs, X_test_fs, fs\n",
        "#split train test data\n",
        "X_train,X_test,y_train,y_test=train_test_split(X,y,test_size=0.2,random_state=1)\n",
        "\n",
        "# feature selection\n",
        "X_train_fs, X_test_fs, fs = select_features(X_train, y_train, X_test)\n",
        "# what are scores for the features\n",
        "for i in range(len(fs.scores_)):\n",
        "\tprint('Feature %d: %f' % (i, fs.scores_[i]))\n",
        "# plot the scores\n",
        "plt.bar([i for i in range(len(fs.scores_))], fs.scores_)\n",
        "plt.show()"
      ],
      "execution_count": null,
      "outputs": []
    },
    {
      "cell_type": "code",
      "metadata": {
        "id": "oiG17NaxvuTl"
      },
      "source": [
        "# class 0: 17360,class 1: 6250\n",
        "# class0/class 1 ratio = 2.8\n",
        "#inversed the weights for the clases\n",
        "w={0:1,1:2.8}\n",
        "#weighted Logistic Regression \n",
        "model = LogisticRegression(penalty='l2',C=1.0,max_iter=500,fit_intercept=False,class_weight=w)\n",
        "model.fit(X_train_fs, y_train)\n",
        "\n"
      ],
      "execution_count": null,
      "outputs": []
    },
    {
      "cell_type": "code",
      "metadata": {
        "colab": {
          "base_uri": "https://localhost:8080/"
        },
        "id": "qQdmVJ4sdEHs",
        "outputId": "611a1aae-ca0f-49de-c1ce-2e4cca87b226"
      },
      "source": [
        "# predict probabilities\n",
        "yhat = model.predict_proba(X_test_fs)\n",
        "# apply threshold to positive probabilities to create labels\n",
        "def to_labels(pos_probs, threshold):\n",
        "\treturn (pos_probs >= threshold).astype('int')\n",
        " \n",
        "# keep probabilities for the positive outcome only\n",
        "probs = yhat[:, 1]\n",
        "# define thresholds\n",
        "thresholds = np.arange(0, 1, 0.001)\n",
        "# evaluate each threshold\n",
        "scores = [f1_score(y_test, to_labels(probs, t)) for t in thresholds]\n",
        "# get best threshold\n",
        "ix = np.argmax(scores)\n",
        "print('Threshold=%.3f, F-Score=%.5f' % (thresholds[ix], scores[ix]))"
      ],
      "execution_count": null,
      "outputs": [
        {
          "output_type": "stream",
          "text": [
            "Threshold=0.524, F-Score=0.61666\n"
          ],
          "name": "stdout"
        }
      ]
    },
    {
      "cell_type": "code",
      "metadata": {
        "colab": {
          "base_uri": "https://localhost:8080/"
        },
        "id": "3so78JCaBh8V",
        "outputId": "7ac07f47-640e-4864-d9df-566ed0b3e2ec"
      },
      "source": [
        "# Best threshold for f1 score: THRESHOLD\n",
        "THRESHOLD=thresholds[ix]\n",
        "print(THRESHOLD)"
      ],
      "execution_count": null,
      "outputs": [
        {
          "output_type": "stream",
          "text": [
            "0.524\n"
          ],
          "name": "stdout"
        }
      ]
    },
    {
      "cell_type": "code",
      "metadata": {
        "colab": {
          "base_uri": "https://localhost:8080/",
          "height": 111
        },
        "id": "4W1Wp6AgdhaW",
        "outputId": "a050972f-d38b-49d2-c865-0d2b5e6079fe"
      },
      "source": [
        "#Calculate predcitions on best threshold\n",
        "preds = np.where(model.predict_proba(X_test_fs)[:,1] > THRESHOLD, 1, 0)\n",
        "\n",
        "pd.DataFrame(data=[accuracy_score(y_test, preds), roc_auc_score(y_test, preds)], index=[\"accuracy\", \"roc_auc_score\"])"
      ],
      "execution_count": null,
      "outputs": [
        {
          "output_type": "execute_result",
          "data": {
            "text/html": [
              "<div>\n",
              "<style scoped>\n",
              "    .dataframe tbody tr th:only-of-type {\n",
              "        vertical-align: middle;\n",
              "    }\n",
              "\n",
              "    .dataframe tbody tr th {\n",
              "        vertical-align: top;\n",
              "    }\n",
              "\n",
              "    .dataframe thead th {\n",
              "        text-align: right;\n",
              "    }\n",
              "</style>\n",
              "<table border=\"1\" class=\"dataframe\">\n",
              "  <thead>\n",
              "    <tr style=\"text-align: right;\">\n",
              "      <th></th>\n",
              "      <th>0</th>\n",
              "    </tr>\n",
              "  </thead>\n",
              "  <tbody>\n",
              "    <tr>\n",
              "      <th>accuracy</th>\n",
              "      <td>0.755612</td>\n",
              "    </tr>\n",
              "    <tr>\n",
              "      <th>roc_auc_score</th>\n",
              "      <td>0.751436</td>\n",
              "    </tr>\n",
              "  </tbody>\n",
              "</table>\n",
              "</div>"
            ],
            "text/plain": [
              "                      0\n",
              "accuracy       0.755612\n",
              "roc_auc_score  0.751436"
            ]
          },
          "metadata": {
            "tags": []
          },
          "execution_count": 52
        }
      ]
    },
    {
      "cell_type": "code",
      "metadata": {
        "colab": {
          "base_uri": "https://localhost:8080/"
        },
        "id": "wrywKgRweKHU",
        "outputId": "a23ecc11-4dcb-4330-83a5-c2ba5d70793f"
      },
      "source": [
        "# classification report on best threshold using f1 score\n",
        "print(classification_report(y_test,preds))"
      ],
      "execution_count": null,
      "outputs": [
        {
          "output_type": "stream",
          "text": [
            "              precision    recall  f1-score   support\n",
            "\n",
            "           0       0.89      0.76      0.82     17360\n",
            "           1       0.53      0.74      0.62      6250\n",
            "\n",
            "    accuracy                           0.76     23610\n",
            "   macro avg       0.71      0.75      0.72     23610\n",
            "weighted avg       0.79      0.76      0.77     23610\n",
            "\n"
          ],
          "name": "stdout"
        }
      ]
    },
    {
      "cell_type": "markdown",
      "metadata": {
        "id": "Odq_rMTebncg"
      },
      "source": [
        " # Catboost Classifier\n",
        " 1. Do a Random Grid Search on a fraction of the Dataframe dfo\n",
        " 2. Apply best parameters fromt he Grid Search to the ultimate model"
      ]
    },
    {
      "cell_type": "code",
      "metadata": {
        "id": "NXIVDeBTRuwD"
      },
      "source": [
        "filepath='/content/sample_data/nysdoh_feature.csv'\n",
        "# take a sample of dfo for purposes of random search cv to get best params while improving efficiency by not doing on the bigger dfo dataset\n",
        "chunk_size=50000\n",
        "df1=pd.DataFrame()\n",
        "for chunk in pd.read_csv(filepath,chunksize=chunk_size,low_memory=False):\n",
        "    df2=chunk.sample(frac=0.05)\n",
        "    df=pd.concat([df1, df2])\n",
        "    df1=df\n",
        "# drop unwanted columns\n",
        "df1=df1.drop(['Unnamed: 0','MeanLOS_byD', 'MeanLOS_byP'],axis=1)\n",
        "#Determine columns for X\n",
        "X=df1.drop(['Length_of_Stay',\n",
        "        'Below_Above_mean', 'length_groups'\n",
        "       ],axis=1)\n",
        "# For Cat Boost, X features have not been modified to dummy variables\n",
        "#Convert Age_Group to Category\n",
        "X['Age_Group']=X['Age_Group'].astype('category')\n",
        "# Target column is Below_Above_mean which has two classes. Map the classes and assign class of interest: above_mean to 1\n",
        "Binary = {'above_mean': 1, 'below_mean': 0}\n",
        "df1['Below_Above_mean'] = df1['Below_Above_mean'].map(Binary)\n",
        "# conisder y variable as binary length groups\n",
        "y=df1['Below_Above_mean']\n"
      ],
      "execution_count": null,
      "outputs": []
    },
    {
      "cell_type": "code",
      "metadata": {
        "id": "DTfxkdk2TABJ"
      },
      "source": [
        "from catboost import CatBoostClassifier"
      ],
      "execution_count": null,
      "outputs": []
    },
    {
      "cell_type": "code",
      "metadata": {
        "id": "XYWB89ZxXtGS"
      },
      "source": [
        "# parameter for CatBoostClassifier()\n",
        "categorical_features_indices = np.where(X.dtypes != np.float)[0]\n",
        "cat_features=categorical_features_indices\n"
      ],
      "execution_count": null,
      "outputs": []
    },
    {
      "cell_type": "code",
      "metadata": {
        "id": "1L1FVs80ccn9"
      },
      "source": [
        "# Creat grid\n",
        "random_grid = {'learning_rate': [0.03, 0.1],\n",
        "        'depth': [4, 6, 10],\n",
        "        'l2_leaf_reg': [1, 3, 5, 7, 9]}"
      ],
      "execution_count": null,
      "outputs": []
    },
    {
      "cell_type": "code",
      "metadata": {
        "id": "vSSZaXk-cHOq"
      },
      "source": [
        "# Complete the Randomized Grid Search\n",
        "# check code time\n",
        "time_start=time.perf_counter()\n",
        "# Use the random grid to search for best hyperparameters\n",
        "# Instantiate the model\n",
        "model = CatBoostClassifier(loss_function='Logloss',cat_features=categorical_features_indices)\n",
        "# Random search of parameters, using 3 fold cross validation, \n",
        "\n",
        "rf_random = RandomizedSearchCV(estimator = model, param_distributions = random_grid, cv = 3,random_state=42,scoring='roc_auc')\n",
        "# Fit the random search model\n",
        "rf_random.fit(X,y)\n",
        "time_end=time.perf_counter()\n",
        "print((time_end-time_start)/60)"
      ],
      "execution_count": null,
      "outputs": []
    },
    {
      "cell_type": "code",
      "metadata": {
        "colab": {
          "base_uri": "https://localhost:8080/"
        },
        "id": "nQQmrMNXdoRY",
        "outputId": "bc9bbd82-c760-4c19-bdba-df7875ab0662"
      },
      "source": [
        "#look at best parameters\n",
        "rf_random.best_params_"
      ],
      "execution_count": null,
      "outputs": [
        {
          "output_type": "execute_result",
          "data": {
            "text/plain": [
              "{'depth': 4, 'l2_leaf_reg': 9, 'learning_rate': 0.03}"
            ]
          },
          "metadata": {
            "tags": []
          },
          "execution_count": 40
        }
      ]
    },
    {
      "cell_type": "code",
      "metadata": {
        "id": "pzVUUAgMDlW4"
      },
      "source": [
        "# apply to dataset df for the ultimate model\n",
        "df=pd.read_csv('/content/sample_data/nysdoh_feature.csv')\n",
        "# remove unwanted columns\n",
        "df=df.drop(['Unnamed: 0','MeanLOS_byD', 'MeanLOS_byP'],axis=1)\n",
        "# Target column is Below_Above_mean which has two classes. Map the classes and assign class of interest: above_mean to 1\n",
        "Binary = {'above_mean': 1, 'below_mean': 0}\n",
        "\n",
        "df['Below_Above_mean'] = df['Below_Above_mean'].map(Binary)\n",
        "# assign X\n",
        "X=df.drop(['Length_of_Stay',\n",
        "        'Below_Above_mean', 'length_groups'\n",
        "       ],axis=1)\n",
        "y=df['Below_Above_mean']\n"
      ],
      "execution_count": null,
      "outputs": []
    },
    {
      "cell_type": "code",
      "metadata": {
        "id": "8DzNK5rqRTBj"
      },
      "source": [
        "# For Cat Boost, X features have not been modified to dummy variables\n",
        "#Convert Age_Group to Category\n",
        "X['Age_Group']=X['Age_Group'].astype('category')"
      ],
      "execution_count": null,
      "outputs": []
    },
    {
      "cell_type": "code",
      "metadata": {
        "id": "xtWXoE_-RiWt"
      },
      "source": [
        "#split train test data\n",
        "X_train,X_test,y_train,y_test=train_test_split(X,y,test_size=0.2,random_state=1)"
      ],
      "execution_count": null,
      "outputs": []
    },
    {
      "cell_type": "code",
      "metadata": {
        "colab": {
          "base_uri": "https://localhost:8080/"
        },
        "id": "SMLcHApEYIyN",
        "outputId": "b9958620-a0fa-4a4c-a2d9-bae09a83ccb8"
      },
      "source": [
        "#Instantiate CatBoostClassifier, use best parameters from the grid search\n",
        "categorical_features_indices = np.where(X.dtypes != np.float)[0]\n",
        "cat_features=categorical_features_indices\n",
        "clf = CatBoostClassifier(loss_function='Logloss',cat_features=categorical_features_indices,depth= 4, l2_leaf_reg= 9, learning_rate= 0.03)\n",
        "CatBoostClassifier()"
      ],
      "execution_count": null,
      "outputs": [
        {
          "output_type": "execute_result",
          "data": {
            "text/plain": [
              "<catboost.core.CatBoostClassifier at 0x7f085c091150>"
            ]
          },
          "metadata": {
            "tags": []
          },
          "execution_count": 44
        }
      ]
    },
    {
      "cell_type": "code",
      "metadata": {
        "id": "qQkgcxHnE2yn"
      },
      "source": [
        "clf.fit(X_train, y_train)"
      ],
      "execution_count": null,
      "outputs": []
    },
    {
      "cell_type": "code",
      "metadata": {
        "colab": {
          "base_uri": "https://localhost:8080/",
          "height": 266
        },
        "id": "Xc3_WZoJhw5l",
        "outputId": "efeaa3bf-8280-4a98-98ee-2b4a4c796645"
      },
      "source": [
        "yhat=clf.predict_proba(X_test)\n",
        "# apply threshold to positive probabilities to create labels\n",
        "def to_labels(pos_probs, threshold):\n",
        "\treturn (pos_probs >= threshold).astype('int')\n",
        " \n",
        "# keep probabilities for the positive outcome only\n",
        "probs = yhat[:, 1]\n",
        "# define thresholds\n",
        "thresholds = np.arange(0, 1, 0.001)\n",
        "# evaluate each threshold\n",
        "scores = [f1_score(y_test, to_labels(probs, t)) for t in thresholds]\n",
        "# get best threshold\n",
        "ix = np.argmax(scores)\n",
        "#Best Threshold:THRESHOLD\n",
        "THRESHOLD=thresholds[ix]\n",
        "#Calculate predcitions on best threshold\n",
        "preds = np.where(clf.predict_proba(X_test)[:,1] > THRESHOLD, 1, 0)\n",
        "#Classification report on best threshold using f1 scoring\n",
        "print(classification_report(y_test,preds))\n",
        "\n",
        "pd.DataFrame(data=[accuracy_score(y_test, preds), roc_auc_score(y_test, preds)], index=[\"accuracy\", \"roc_auc_score\"])"
      ],
      "execution_count": null,
      "outputs": [
        {
          "output_type": "stream",
          "text": [
            "              precision    recall  f1-score   support\n",
            "\n",
            "           0       0.89      0.80      0.84     17360\n",
            "           1       0.56      0.71      0.63      6250\n",
            "\n",
            "    accuracy                           0.78     23610\n",
            "   macro avg       0.72      0.76      0.73     23610\n",
            "weighted avg       0.80      0.78      0.78     23610\n",
            "\n"
          ],
          "name": "stdout"
        },
        {
          "output_type": "execute_result",
          "data": {
            "text/html": [
              "<div>\n",
              "<style scoped>\n",
              "    .dataframe tbody tr th:only-of-type {\n",
              "        vertical-align: middle;\n",
              "    }\n",
              "\n",
              "    .dataframe tbody tr th {\n",
              "        vertical-align: top;\n",
              "    }\n",
              "\n",
              "    .dataframe thead th {\n",
              "        text-align: right;\n",
              "    }\n",
              "</style>\n",
              "<table border=\"1\" class=\"dataframe\">\n",
              "  <thead>\n",
              "    <tr style=\"text-align: right;\">\n",
              "      <th></th>\n",
              "      <th>0</th>\n",
              "    </tr>\n",
              "  </thead>\n",
              "  <tbody>\n",
              "    <tr>\n",
              "      <th>accuracy</th>\n",
              "      <td>0.775985</td>\n",
              "    </tr>\n",
              "    <tr>\n",
              "      <th>roc_auc_score</th>\n",
              "      <td>0.756022</td>\n",
              "    </tr>\n",
              "  </tbody>\n",
              "</table>\n",
              "</div>"
            ],
            "text/plain": [
              "                      0\n",
              "accuracy       0.775985\n",
              "roc_auc_score  0.756022"
            ]
          },
          "metadata": {
            "tags": []
          },
          "execution_count": 60
        }
      ]
    },
    {
      "cell_type": "code",
      "metadata": {
        "colab": {
          "base_uri": "https://localhost:8080/"
        },
        "id": "vf0b0S7OmWDN",
        "outputId": "3ad2a7bc-e922-4d42-cebb-81b8d2f06da5"
      },
      "source": [
        "print(THRESHOLD)"
      ],
      "execution_count": null,
      "outputs": [
        {
          "output_type": "stream",
          "text": [
            "0.311\n"
          ],
          "name": "stdout"
        }
      ]
    },
    {
      "cell_type": "code",
      "metadata": {
        "colab": {
          "base_uri": "https://localhost:8080/",
          "height": 279
        },
        "id": "4LFGw72cmJXZ",
        "outputId": "6a082dd6-e809-4aff-e9d4-75c6b49ffad6"
      },
      "source": [
        "#plot the ROC\n",
        "from matplotlib import pyplot\n",
        "# calculate roc curves\n",
        "fpr, tpr, thresholds = roc_curve(y_test, probs)\n",
        "# plot the roc curve for the model\n",
        "pyplot.plot([0,1], [0,1], linestyle='--', label='No Skill')\n",
        "pyplot.plot(fpr, tpr, marker='.', label='CatBoost')\n",
        "pyplot.scatter(fpr[ix], tpr[ix], marker='o', color='black', label='Best')\n",
        "# axis labels\n",
        "pyplot.xlabel('False Positive Rate')\n",
        "pyplot.ylabel('True Positive Rate')\n",
        "pyplot.legend()\n",
        "# show the plot\n",
        "pyplot.show()"
      ],
      "execution_count": null,
      "outputs": [
        {
          "output_type": "display_data",
          "data": {
            "image/png": "[encoded data removed]",
            "text/plain": [
              "<Figure size 432x288 with 1 Axes>"
            ]
          },
          "metadata": {
            "tags": [],
            "needs_background": "light"
          }
        }
      ]
    },
    {
      "cell_type": "markdown",
      "metadata": {
        "id": "OPOaIm1dHMsg"
      },
      "source": [
        "After comparing th eultimate Random Forest Classifier, Logistic Regression classifier and CatBoost Classifier, the Catboost classifier performs better with a F1 score 0.63 for the above mean length of stay group, with ROC_AUC  of  0.76"
      ]
    }
  ]
}