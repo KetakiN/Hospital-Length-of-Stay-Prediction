{
 "cells": [
  {
   "cell_type": "code",
   "execution_count": 1,
   "metadata": {},
   "outputs": [],
   "source": [
    "import pandas as pd\n",
    "import os\n"
   ]
  },
  {
   "cell_type": "code",
   "execution_count": 2,
   "metadata": {},
   "outputs": [],
   "source": [
    "# designate filepath to load the original dataset\n",
    "filepath='C:/Users/ketak/Desktop/Springboard/data/nysdohdatafile.csv'\n",
    "\n"
   ]
  },
  {
   "cell_type": "code",
   "execution_count": 3,
   "metadata": {},
   "outputs": [],
   "source": [
    "# Retrieve 5%  random sample of the original dataset to use for our project\n",
    "chunk_size=50000\n",
    "df1=pd.DataFrame()\n",
    "for chunk in pd.read_csv(filepath,chunksize=chunk_size,low_memory=False):\n",
    "    df2=chunk.sample(frac=0.05)\n",
    "    df=pd.concat([df1, df2])\n",
    "    df1=df\n",
    "    "
   ]
  },
  {
   "cell_type": "code",
   "execution_count": 4,
   "metadata": {},
   "outputs": [
    {
     "name": "stdout",
     "output_type": "stream",
     "text": [
      "(118378, 35)\n"
     ]
    }
   ],
   "source": [
    "# look at shape of our 5% random sample\n",
    "print(df.shape)\n"
   ]
  },
  {
   "cell_type": "code",
   "execution_count": 5,
   "metadata": {},
   "outputs": [],
   "source": [
    "# reset index\n",
    "df.reset_index(drop=True, inplace=True)\n"
   ]
  },
  {
   "cell_type": "code",
   "execution_count": 7,
   "metadata": {},
   "outputs": [
    {
     "name": "stdout",
     "output_type": "stream",
     "text": [
      "Index(['Hospital Service Area', 'Hospital County',\n",
      "       'Operating Certificate Number', 'Permanent Facility Id',\n",
      "       'Facility Name', 'Age Group', 'Zip Code - 3 digits', 'Gender', 'Race',\n",
      "       'Ethnicity', 'Length of Stay', 'Type of Admission',\n",
      "       'Patient Disposition', 'Discharge Year', 'CCS Diagnosis Code',\n",
      "       'CCS Diagnosis Description', 'CCS Procedure Code',\n",
      "       'CCS Procedure Description', 'APR DRG Code', 'APR DRG Description',\n",
      "       'APR MDC Code', 'APR MDC Description', 'APR Severity of Illness Code',\n",
      "       'APR Severity of Illness Description', 'APR Risk of Mortality',\n",
      "       'APR Medical Surgical Description', 'Payment Typology 1',\n",
      "       'Payment Typology 2', 'Payment Typology 3', 'Birth Weight',\n",
      "       'Abortion Edit Indicator', 'Emergency Department Indicator',\n",
      "       'Total Charges', 'Total Costs',\n",
      "       'Ratio of Total Costs to Total Charges'],\n",
      "      dtype='object')\n"
     ]
    }
   ],
   "source": [
    "# look at the different columns\n",
    "print(df.columns)"
   ]
  },
  {
   "cell_type": "code",
   "execution_count": 8,
   "metadata": {},
   "outputs": [],
   "source": [
    "# save the 5% random sample to new dataset: NYSDOH_sample\n",
    "df.to_csv('NYSDOH_sample.csv')"
   ]
  }
 ],
 "metadata": {
  "kernelspec": {
   "display_name": "Python 3",
   "language": "python",
   "name": "python3"
  },
  "language_info": {
   "codemirror_mode": {
    "name": "ipython",
    "version": 3
   },
   "file_extension": ".py",
   "mimetype": "text/x-python",
   "name": "python",
   "nbconvert_exporter": "python",
   "pygments_lexer": "ipython3",
   "version": "3.8.3"
  }
 },
 "nbformat": 4,
 "nbformat_minor": 4
}
